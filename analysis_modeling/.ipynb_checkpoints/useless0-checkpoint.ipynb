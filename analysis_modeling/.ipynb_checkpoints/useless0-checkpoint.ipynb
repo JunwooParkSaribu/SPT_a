{
 "cells": [
  {
   "cell_type": "code",
   "execution_count": 3,
   "id": "8448a394-184d-4796-8689-ce8cda215a5e",
   "metadata": {},
   "outputs": [
    {
     "name": "stdout",
     "output_type": "stream",
     "text": [
      "2.17.0\n",
      "[PhysicalDevice(name='/physical_device:GPU:0', device_type='GPU')]\n"
     ]
    }
   ],
   "source": [
    "import os\n",
    "import sys\n",
    "sys.path.insert(0, os.path.abspath('../'))\n",
    "import datetime\n",
    "import IPython\n",
    "import IPython.display\n",
    "#from ipywidgets import *\n",
    "import matplotlib as mpl\n",
    "import matplotlib.pyplot as plt\n",
    "import numpy as np\n",
    "import random\n",
    "import pandas as pd\n",
    "import seaborn as sns\n",
    "import tensorflow as tf\n",
    "import scipy\n",
    "from scipy.spatial import distance\n",
    "import cv2\n",
    "import matplotlib.patheffects as pe\n",
    "from TrajectoryObject import TrajectoryObj\n",
    "from FileIO import write_trajectory, read_trajectory, read_mosaic, read_localization, read_andi2_trajectory_label\n",
    "from andi_datasets.models_phenom import models_phenom\n",
    "from andi_datasets.datasets_phenom import datasets_phenom\n",
    "from andi_datasets.utils_trajectories import plot_trajs\n",
    "from andi_datasets.utils_challenge import label_continuous_to_list\n",
    "from stochastic import random as strandom\n",
    "from stochastic.processes.continuous import FractionalBrownianMotion\n",
    "from skimage.restoration import denoise_tv_chambolle\n",
    "\n",
    "#%matplotlib widget\n",
    "\n",
    "print(tf.__version__)\n",
    "print(tf.config.list_physical_devices('GPU'))"
   ]
  },
  {
   "cell_type": "code",
   "execution_count": 53,
   "id": "421c543d-27a6-4660-9cef-f7800f0c3d0d",
   "metadata": {},
   "outputs": [],
   "source": [
    "trajs_model, labels_model = models_phenom().multi_state(N=2,\n",
    "                                                        L=None,\n",
    "                                                        T=64,\n",
    "                                                        alphas=[1.0, 1.0],\n",
    "                                                        Ds=[[0.05, 0.0], [0.05, 0.0]],\n",
    "                                                        M=[[1.00, 0.00], [0.00, 1.00]]\n",
    "                                                       )\n",
    "x = trajs_model[:, 0, 0]\n",
    "y = trajs_model[:, 0, 1]\n",
    "changepoints, alphas_cp, Ds, state_num = label_continuous_to_list(labels_model[:, 0, :])\n",
    "changepoints = changepoints[:-1]"
   ]
  },
  {
   "cell_type": "code",
   "execution_count": 54,
   "id": "42b7f3ca-9c5c-4b48-9236-67d3c80ffa89",
   "metadata": {},
   "outputs": [
    {
     "data": {
      "image/png": "[encoded data removed]",
      "text/plain": [
       "<Figure size 640x480 with 1 Axes>"
      ]
     },
     "metadata": {},
     "output_type": "display_data"
    }
   ],
   "source": [
    "fig = plt.figure()\n",
    "fig.patch.set_facecolor('white')\n",
    "fig.patch.set_alpha(0.0)\n",
    "plt.plot(x, y, c='green')\n",
    "plt.xlim([-5, 5])\n",
    "plt.ylim([-5, 5])\n",
    "plt.xticks([])\n",
    "plt.yticks([])\n",
    "plt.savefig('./traj.png', transparent=True)\n",
    "plt.show()"
   ]
  },
  {
   "cell_type": "code",
   "execution_count": null,
   "id": "e48f9f66-1eba-47fc-bd5f-724b7aa77bf5",
   "metadata": {},
   "outputs": [],
   "source": []
  }
 ],
 "metadata": {
  "kernelspec": {
   "display_name": "Python 3 (ipykernel)",
   "language": "python",
   "name": "python3"
  },
  "language_info": {
   "codemirror_mode": {
    "name": "ipython",
    "version": 3
   },
   "file_extension": ".py",
   "mimetype": "text/x-python",
   "name": "python",
   "nbconvert_exporter": "python",
   "pygments_lexer": "ipython3",
   "version": "3.12.10"
  }
 },
 "nbformat": 4,
 "nbformat_minor": 5
}
