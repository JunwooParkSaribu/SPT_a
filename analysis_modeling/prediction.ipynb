{
 "cells": [
  {
   "cell_type": "code",
   "execution_count": 2,
   "id": "7b8acff3",
   "metadata": {},
   "outputs": [
    {
     "name": "stdout",
     "output_type": "stream",
     "text": [
      "2.16.1\n",
      "[PhysicalDevice(name='/physical_device:GPU:0', device_type='GPU')]\n"
     ]
    },
    {
     "name": "stderr",
     "output_type": "stream",
     "text": [
      "2024-05-10 16:25:49.765643: I external/local_xla/xla/stream_executor/cuda/cuda_executor.cc:984] could not open file to read NUMA node: /sys/bus/pci/devices/0000:0b:00.0/numa_node\n",
      "Your kernel may have been built without NUMA support.\n",
      "2024-05-10 16:25:49.791930: I external/local_xla/xla/stream_executor/cuda/cuda_executor.cc:984] could not open file to read NUMA node: /sys/bus/pci/devices/0000:0b:00.0/numa_node\n",
      "Your kernel may have been built without NUMA support.\n",
      "2024-05-10 16:25:49.791978: I external/local_xla/xla/stream_executor/cuda/cuda_executor.cc:984] could not open file to read NUMA node: /sys/bus/pci/devices/0000:0b:00.0/numa_node\n",
      "Your kernel may have been built without NUMA support.\n"
     ]
    }
   ],
   "source": [
    "import os\n",
    "import sys\n",
    "sys.path.insert(0, os.path.abspath('../'))\n",
    "import IPython\n",
    "import IPython.display\n",
    "import numpy as np\n",
    "import random\n",
    "import pandas as pd\n",
    "import tensorflow as tf\n",
    "from andi_datasets.models_phenom import models_phenom\n",
    "from andi_datasets.datasets_phenom import datasets_phenom\n",
    "\n",
    "print(tf.__version__)\n",
    "print(tf.config.list_physical_devices('GPU'))"
   ]
  },
  {
   "cell_type": "code",
   "execution_count": 3,
   "id": "9696a5c1",
   "metadata": {},
   "outputs": [],
   "source": [
    "WINDOW_WIDTHS = np.arange(10, 100, 2)\n",
    "SHIFT_WIDTH = 40\n",
    "JUMP_D = 10\n",
    "NB_FEATURES = 2"
   ]
  },
  {
   "cell_type": "code",
   "execution_count": 4,
   "id": "b18223fc",
   "metadata": {},
   "outputs": [],
   "source": [
    "@tf.keras.utils.register_keras_serializable('JSC')\n",
    "class Jaccard(tf.keras.Metric):\n",
    "    def __init__(self, name='JSC', **kwargs):\n",
    "        super().__init__(name=name, **kwargs)\n",
    "        self.true_positives = self.add_variable(\n",
    "            shape=(),\n",
    "            initializer='zeros',\n",
    "            name='JSC_tp'\n",
    "        )\n",
    "        self.false_positives = self.add_variable(\n",
    "            shape=(),\n",
    "            initializer='zeros',\n",
    "            name='JSC_fp'\n",
    "        )\n",
    "        self.false_negatives = self.add_variable(\n",
    "            shape=(),\n",
    "            initializer='zeros',\n",
    "            name='JSC_fn'\n",
    "        )\n",
    "\n",
    "    def update_state(self, y_true, y_pred, sample_weight=None):\n",
    "        y_true = tf.keras.ops.cast(y_true, \"bool\")\n",
    "        y_pred = tf.keras.ops.cast(tf.math.round(y_pred), \"bool\")\n",
    "\n",
    "        tp_values = tf.keras.ops.logical_and(\n",
    "            tf.keras.ops.equal(y_true, True), tf.keras.ops.equal(y_pred, True))\n",
    "        tp_values = tf.keras.ops.cast(tp_values, self.dtype)\n",
    "        \n",
    "        fp_values = tf.keras.ops.logical_and(\n",
    "            tf.keras.ops.equal(y_true, False), tf.keras.ops.equal(y_pred, True))\n",
    "        fp_values = tf.keras.ops.cast(fp_values, self.dtype)\n",
    "        \n",
    "        fn_values = tf.keras.ops.logical_and(\n",
    "            tf.keras.ops.equal(y_true, True), tf.keras.ops.equal(y_pred, False))\n",
    "        fn_values = tf.keras.ops.cast(fn_values, self.dtype)\n",
    "        \n",
    "        tn_values = tf.keras.ops.logical_and(\n",
    "            tf.keras.ops.equal(y_true, False), tf.keras.ops.equal(y_pred, False))\n",
    "        tn_values = tf.keras.ops.cast(tn_values, self.dtype)\n",
    "\n",
    "        self.true_positives.assign(self.true_positives + tf.keras.ops.sum(tp_values))\n",
    "        self.false_positives.assign(self.false_positives + tf.keras.ops.sum(fp_values))\n",
    "        self.false_negatives.assign(self.false_negatives + tf.keras.ops.sum(fn_values))\n",
    "\n",
    "    def result(self):\n",
    "        return self.true_positives / (self.true_positives + self.false_positives + self.false_negatives)"
   ]
  },
  {
   "cell_type": "code",
   "execution_count": 5,
   "id": "02725364",
   "metadata": {},
   "outputs": [],
   "source": [
    "def uncumulate(xs:np.ndarray):\n",
    "    assert xs.ndim == 1\n",
    "    uncum_list = [0.]\n",
    "    for i in range(1, len(xs)):\n",
    "        uncum_list.append(xs[i] - xs[i-1])\n",
    "    return np.array(uncum_list)"
   ]
  },
  {
   "cell_type": "code",
   "execution_count": 6,
   "id": "03c0caa3",
   "metadata": {},
   "outputs": [],
   "source": [
    "def make_signal(x_pos, y_pos, win_widths):\n",
    "    all_vals = []\n",
    "    for win_width in win_widths:\n",
    "        if win_width >= len(x_pos):\n",
    "            continue\n",
    "        vals = []\n",
    "        for checkpoint in range(int(win_width/2), len(x_pos) - int(win_width/2)):\n",
    "            xs = x_pos[checkpoint - int(win_width/2) : checkpoint + int(win_width/2)]\n",
    "            ys = y_pos[checkpoint - int(win_width/2) : checkpoint + int(win_width/2)]\n",
    "\n",
    "            xs1 = xs[:int(len(xs)/2)] - float(xs[:int(len(xs)/2)][0])\n",
    "            xs2 = xs[int(len(xs)/2):] - float(xs[int(len(xs)/2):][0])\n",
    "\n",
    "            ys1 = ys[:int(len(ys)/2)] - float(ys[:int(len(ys)/2)][0])\n",
    "            ys2 = ys[int(len(ys)/2):] - float(ys[int(len(ys)/2):][0])\n",
    "\n",
    "            std_xs1 = np.std(xs1)\n",
    "            std_xs2 = np.std(xs2)\n",
    "            std_ys1 = np.std(ys1)\n",
    "            std_ys2 = np.std(ys2)\n",
    "\n",
    "            surface_xs1 = abs(np.sum(xs1)) / win_width\n",
    "            surface_xs2 = abs(np.sum(xs2)) / win_width\n",
    "            surface_ys1 = abs(np.sum(ys1)) / win_width\n",
    "            surface_ys2 = abs(np.sum(ys2)) / win_width\n",
    "\n",
    "\n",
    "            xs1 = np.cumsum(abs(xs1)) #* surface_xs1\n",
    "            xs2 = np.cumsum(abs(xs2)) #* surface_xs2\n",
    "            ys1 = np.cumsum(abs(ys1)) #* surface_ys1\n",
    "            ys2 = np.cumsum(abs(ys2)) #* surface_ys2\n",
    "\n",
    "\n",
    "            xs_max_val = max(np.max(abs(xs1)), np.max(abs(xs2)))\n",
    "            xs1 = xs1 / xs_max_val\n",
    "            xs2 = xs2 / xs_max_val\n",
    "            xs1 = xs1 / win_width\n",
    "            xs2 = xs2 / win_width\n",
    "\n",
    "            ys_max_val = max(np.max(abs(ys1)), np.max(abs(ys2)))\n",
    "            ys1 = ys1 / ys_max_val\n",
    "            ys2 = ys2 / ys_max_val\n",
    "            ys1 = ys1 / win_width \n",
    "            ys2 = ys2 / win_width\n",
    "\n",
    "            vals.append(abs(np.sum(xs1 - xs2 + ys1 - ys2)) \n",
    "                       * (max(std_xs1, std_xs2) / min(std_xs1, std_xs2)) \n",
    "                             * (max(std_ys1, std_ys2) / min(std_ys1, std_ys2)))\n",
    "\n",
    "        vals = np.concatenate((np.ones(int(win_width/2)) * -1, vals))\n",
    "        vals = np.concatenate((vals, np.ones(int(win_width/2)) * -1))\n",
    "        vals = np.array(vals)\n",
    "        all_vals.append(vals)\n",
    "    \n",
    "    all_vals = np.array(all_vals) + 1e-7\n",
    "    normalized_vals = all_vals.copy()\n",
    "    for i in range(len(normalized_vals)):\n",
    "            normalized_vals[i] = normalized_vals[i] / np.max(normalized_vals[i])\n",
    "    return all_vals, normalized_vals"
   ]
  },
  {
   "cell_type": "code",
   "execution_count": 7,
   "id": "473d0fbb",
   "metadata": {},
   "outputs": [],
   "source": [
    "def compress_signals(signals):\n",
    "    compressed_signal = []\n",
    "    nb_signal = signals.shape[1]\n",
    "    \n",
    "    for row in signals.transpose():\n",
    "        nb_activ_window = np.sum(row >= 0)\n",
    "        if nb_activ_window != 0:\n",
    "            comp = np.sum(row[row >= 0])\n",
    "        else:\n",
    "            comp = 1e-7\n",
    "        compressed_signal.append(comp)\n",
    "    compressed_signal = (np.array(compressed_signal) - float(np.min(compressed_signal))) / np.max(compressed_signal)\n",
    "    return compressed_signal"
   ]
  },
  {
   "cell_type": "code",
   "execution_count": 8,
   "id": "0e8dcf1e",
   "metadata": {},
   "outputs": [],
   "source": [
    "def slice_data(signal_seq, jump_d=10):\n",
    "    slice_d = []\n",
    "    indice = []\n",
    "    for i in range(SHIFT_WIDTH//2, signal_seq.shape[0] - SHIFT_WIDTH//2, jump_d):\n",
    "        crop = signal_seq[i - SHIFT_WIDTH//2: i + SHIFT_WIDTH//2]\n",
    "        slice_d.append(crop)\n",
    "        indice.append(i)\n",
    "    return np.array(slice_d), np.array(indice)"
   ]
  },
  {
   "cell_type": "code",
   "execution_count": 9,
   "id": "db202adf",
   "metadata": {},
   "outputs": [],
   "source": [
    "def merge_close_points(changepoints, signal, seuil=5):\n",
    "    seq_sums = []\n",
    "    val_orders = np.argsort(signal[changepoints])[::-1]\n",
    "    \n",
    "    filtered_cps = []\n",
    "    all_cps_range = set()\n",
    "    for cp in changepoints[val_orders]:\n",
    "        regis_cp_range = np.arange(-seuil + cp, seuil + cp)\n",
    "        if len(set(regis_cp_range) & all_cps_range) == 0:\n",
    "            filtered_cps.append(cp)\n",
    "            all_cps_range.update(regis_cp_range)\n",
    "    filtered_cps = np.array(filtered_cps)\n",
    "    return filtered_cps"
   ]
  },
  {
   "cell_type": "code",
   "execution_count": 16,
   "id": "69379374",
   "metadata": {},
   "outputs": [],
   "source": [
    "def ana_cp_predict(model, x, y, win_widths, jump_d):\n",
    "    cps = []\n",
    "    signal, norm_signal = make_signal(x, y, win_widths)\n",
    "    comp_signal = compress_signals(signal)\n",
    "    feat1 = np.mean(comp_signal)**2 / np.std(comp_signal)**2\n",
    "    feat2 = np.max(signal, axis=1).mean()\n",
    "    input_signals, indice = slice_data(comp_signal, jump_d=jump_d)\n",
    "    input_signals = np.array(input_signals).reshape(-1, 1, SHIFT_WIDTH, 1)\n",
    "    input_features = np.array([feat1, feat2] * input_signals.shape[0]).reshape(-1, NB_FEATURES)\n",
    "\n",
    "    if input_signals.shape[0] != 0:\n",
    "        pred = model.predict([input_signals, input_features], verbose=0).flatten()\n",
    "        #cps = indice[np.round(pred) >= 1]\n",
    "        cps = indice[pred >= 0.9]  \n",
    "    if len(cps) == 0:\n",
    "        return cps\n",
    "        \n",
    "    \"\"\"\n",
    "    reg_inputs = []\n",
    "    for cp in cps:\n",
    "        reg_inputs.append(signal_seq[:, cp - (SHIFT_WIDTH//2): cp + (SHIFT_WIDTH//2)])\n",
    "    reg_inputs = np.array(reg_inputs).reshape(-1, activ_nb_win*2, SHIFT_WIDTH, 1)\n",
    "    reg_outputs = regression_model.predict(reg_inputs, verbose=0).flatten()\n",
    "    cps = np.round(cps + reg_outputs).astype(int)\n",
    "    \"\"\"\n",
    "    cps = merge_close_points(cps, comp_signal, seuil=40)\n",
    "\n",
    "    return np.sort(cps)"
   ]
  },
  {
   "cell_type": "markdown",
   "id": "1b765309",
   "metadata": {},
   "source": [
    "# Produce results"
   ]
  },
  {
   "cell_type": "code",
   "execution_count": 11,
   "id": "5eebcfa1",
   "metadata": {},
   "outputs": [
    {
     "name": "stderr",
     "output_type": "stream",
     "text": [
      "2024-05-10 16:25:58.007083: I external/local_xla/xla/stream_executor/cuda/cuda_executor.cc:984] could not open file to read NUMA node: /sys/bus/pci/devices/0000:0b:00.0/numa_node\n",
      "Your kernel may have been built without NUMA support.\n",
      "2024-05-10 16:25:58.007164: I external/local_xla/xla/stream_executor/cuda/cuda_executor.cc:984] could not open file to read NUMA node: /sys/bus/pci/devices/0000:0b:00.0/numa_node\n",
      "Your kernel may have been built without NUMA support.\n",
      "2024-05-10 16:25:58.007200: I external/local_xla/xla/stream_executor/cuda/cuda_executor.cc:984] could not open file to read NUMA node: /sys/bus/pci/devices/0000:0b:00.0/numa_node\n",
      "Your kernel may have been built without NUMA support.\n",
      "2024-05-10 16:25:58.133111: I external/local_xla/xla/stream_executor/cuda/cuda_executor.cc:984] could not open file to read NUMA node: /sys/bus/pci/devices/0000:0b:00.0/numa_node\n",
      "Your kernel may have been built without NUMA support.\n",
      "2024-05-10 16:25:58.133162: I external/local_xla/xla/stream_executor/cuda/cuda_executor.cc:984] could not open file to read NUMA node: /sys/bus/pci/devices/0000:0b:00.0/numa_node\n",
      "Your kernel may have been built without NUMA support.\n",
      "2024-05-10 16:25:58.133169: I tensorflow/core/common_runtime/gpu/gpu_device.cc:2019] Could not identify NUMA node of platform GPU id 0, defaulting to 0.  Your kernel may not have been built with NUMA support.\n",
      "2024-05-10 16:25:58.133206: I external/local_xla/xla/stream_executor/cuda/cuda_executor.cc:984] could not open file to read NUMA node: /sys/bus/pci/devices/0000:0b:00.0/numa_node\n",
      "Your kernel may have been built without NUMA support.\n",
      "2024-05-10 16:25:58.133224: I tensorflow/core/common_runtime/gpu/gpu_device.cc:1928] Created device /job:localhost/replica:0/task:0/device:GPU:0 with 21770 MB memory:  -> device: 0, name: NVIDIA GeForce RTX 3090, pci bus id: 0000:0b:00.0, compute capability: 8.6\n"
     ]
    }
   ],
   "source": [
    "classification_model = tf.keras.models.load_model(f'./models/cls_model_{SHIFT_WIDTH}_2.keras')\n",
    "#classification_model.summary()\n",
    "#regression_model = tf.keras.models.load_model('regression_model_0.keras')\n",
    "#regression_model.summary()"
   ]
  },
  {
   "cell_type": "code",
   "execution_count": 12,
   "id": "1b5d8ae2",
   "metadata": {},
   "outputs": [],
   "source": [
    "import os\n",
    "public_data_path = 'public_data_validation_v1/' # make sure the folder has this name or change it\n",
    "path_results = 'res_valid/'\n",
    "if not os.path.exists(path_results):\n",
    "    os.makedirs(path_results)\n",
    "\n",
    "N_EXP = 13\n",
    "N_FOVS = 30"
   ]
  },
  {
   "cell_type": "code",
   "execution_count": 11,
   "id": "90cd2734",
   "metadata": {},
   "outputs": [],
   "source": [
    "from andi_datasets.utils_videos import import_tiff_video\n",
    "import matplotlib.pyplot as plt\n",
    "import numpy as np\n",
    "np.random.seed(0)\n",
    "\n",
    "video = import_tiff_video(public_data_path+'track_1/exp_0/videos_fov_1.tiff')"
   ]
  },
  {
   "cell_type": "code",
   "execution_count": 12,
   "id": "f24da988",
   "metadata": {},
   "outputs": [
    {
     "name": "stdout",
     "output_type": "stream",
     "text": [
      "[  1  10  21  24  25  26  33  37  38  41 255]\n"
     ]
    },
    {
     "data": {
      "image/png": "[encoded data removed]",
      "text/plain": [
       "<Figure size 600x600 with 1 Axes>"
      ]
     },
     "metadata": {},
     "output_type": "display_data"
    }
   ],
   "source": [
    "print(np.unique(video[0]))\n",
    "plt.matshow(video[0])\n",
    "plt.xlabel('pixel');plt.ylabel('pixel');"
   ]
  },
  {
   "cell_type": "code",
   "execution_count": 13,
   "id": "e0162ffe",
   "metadata": {},
   "outputs": [],
   "source": [
    "for track in [1,2]:\n",
    "    \n",
    "    # Create the folder of the track if it does not exists\n",
    "    path_track = path_results + f'track_{track}/'\n",
    "    if not os.path.exists(path_track):\n",
    "        os.makedirs(path_track)\n",
    "        \n",
    "    for exp in range(N_EXP):\n",
    "        # Create the folder of the experiment if it does not exits\n",
    "        path_exp = path_track+f'exp_{exp}/'\n",
    "        if not os.path.exists(path_exp):\n",
    "            os.makedirs(path_exp)\n",
    "        file_name = path_exp + 'ensemble_labels.txt'\n",
    "        \n",
    "        with open(file_name, 'a') as f:\n",
    "            # Save the model (random) and the number of states (2 in this case)\n",
    "            model_name = np.random.choice(datasets_phenom().avail_models_name, size = 1)[0]\n",
    "            f.write(f'model: {model_name}; num_state: {2} \\n')\n",
    "\n",
    "            # Create some dummy data for 2 states. This means 2 columns\n",
    "            # and 5 rows\n",
    "            data = np.random.rand(5, 2)\n",
    "            \n",
    "            data[-1,:] /= data[-1,:].sum()\n",
    "\n",
    "            # Save the data in the corresponding ensemble file\n",
    "            np.savetxt(f, data, delimiter = ';')"
   ]
  },
  {
   "cell_type": "code",
   "execution_count": null,
   "id": "f64f483f",
   "metadata": {},
   "outputs": [],
   "source": [
    "# Define the number of experiments and number of FOVS\n",
    "\n",
    "for track in [2]:\n",
    "    path_track = path_results + f'track_{track}/'\n",
    "    for exp in range(N_EXP):\n",
    "        path_exp = path_track + f'exp_{exp}/'\n",
    "        for fov in range(N_FOVS):\n",
    "            # We read the corresponding csv file from the public data and extract the indices of the trajectories:\n",
    "            if track == 2:\n",
    "                df = pd.read_csv(public_data_path + f'track_{track}/exp_{exp}/trajs_fov_{fov}.csv')\n",
    "            else:\n",
    "                df = pd.read_csv(public_data_path + f'track_{track}/exp_{exp}/videos_fov_{fov}_track.csv')\n",
    "            traj_idx = np.sort(df.traj_idx.unique())\n",
    "            submission_file = path_exp + f'fov_{fov}.txt'\n",
    "\n",
    "            with open(submission_file, 'w') as f:\n",
    "\n",
    "                # Loop over each index\n",
    "                for idx in traj_idx:\n",
    "\n",
    "                    # Get the lenght of the trajectory\n",
    "                    x = np.array(df[df.traj_idx == idx])[:, 2]\n",
    "                    y = np.array(df[df.traj_idx == idx])[:, 3]\n",
    "                    length_traj = df[df.traj_idx == idx].shape[0]\n",
    "\n",
    "\n",
    "                    try:\n",
    "                        cps = ana_cp_predict(classification_model, x, y, WINDOW_WIDTHS, JUMP_D)\n",
    "                        cps = np.concatenate((cps, [length_traj])).astype(int)\n",
    "                    except Exception as e:\n",
    "                        cps = []\n",
    "\n",
    "                    prediction_traj = [idx.astype(int)]\n",
    "                    for k, alpha, state, cp in zip([99999999] * len(cps), [99999999] * len(cps),\n",
    "                                                   [99999999] * len(cps), cps):\n",
    "                        prediction_traj.append(k)\n",
    "                        prediction_traj.append(alpha)\n",
    "                        prediction_traj.append(state)\n",
    "                        prediction_traj.append(cp)\n",
    "\n",
    "                    formatted_numbers = ','.join(map(str, prediction_traj))\n",
    "                    f.write(formatted_numbers + '\\n')"
   ]
  },
  {
   "cell_type": "code",
   "execution_count": null,
   "id": "bcd06853",
   "metadata": {},
   "outputs": [],
   "source": []
  }
 ],
 "metadata": {
  "kernelspec": {
   "display_name": "Python 3 (ipykernel)",
   "language": "python",
   "name": "python3"
  },
  "language_info": {
   "codemirror_mode": {
    "name": "ipython",
    "version": 3
   },
   "file_extension": ".py",
   "mimetype": "text/x-python",
   "name": "python",
   "nbconvert_exporter": "python",
   "pygments_lexer": "ipython3",
   "version": "3.10.12"
  }
 },
 "nbformat": 4,
 "nbformat_minor": 5
}
