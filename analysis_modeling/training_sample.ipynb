{
 "cells": [
  {
   "cell_type": "code",
   "execution_count": null,
   "id": "fb305e41-e44b-4267-b3d6-5ce540fa4e21",
   "metadata": {},
   "outputs": [],
   "source": [
    "from google.colab import drive\n",
    "import os\n",
    "drive.mount('/content/drive')\n",
    "os.chdir('/content/drive/MyDrive/Colab Notebooks')"
   ]
  },
  {
   "cell_type": "markdown",
   "id": "_erkh7gE-fDc",
   "metadata": {
    "id": "_erkh7gE-fDc"
   },
   "source": [
    "# New section"
   ]
  },
  {
   "cell_type": "code",
   "execution_count": 1,
   "id": "caa22314-1c4b-4321-ba4e-dc677d4cfd93",
   "metadata": {
    "executionInfo": {
     "elapsed": 12789,
     "status": "ok",
     "timestamp": 1710432620114,
     "user": {
      "displayName": "Junwoo Park",
      "userId": "13503732136792353719"
     },
     "user_tz": -60
    },
    "id": "caa22314-1c4b-4321-ba4e-dc677d4cfd93"
   },
   "outputs": [
    {
     "name": "stderr",
     "output_type": "stream",
     "text": [
      "2024-03-15 10:39:22.524329: I tensorflow/core/platform/cpu_feature_guard.cc:182] This TensorFlow binary is optimized to use available CPU instructions in performance-critical operations.\n",
      "To enable the following instructions: AVX2 FMA, in other operations, rebuild TensorFlow with the appropriate compiler flags.\n",
      "2024-03-15 10:39:22.954174: W tensorflow/compiler/tf2tensorrt/utils/py_utils.cc:38] TF-TRT Warning: Could not find TensorRT\n",
      "/home/junwoo/.local/lib/python3.10/site-packages/tqdm/auto.py:21: TqdmWarning: IProgress not found. Please update jupyter and ipywidgets. See https://ipywidgets.readthedocs.io/en/stable/user_install.html\n",
      "  from .autonotebook import tqdm as notebook_tqdm\n"
     ]
    }
   ],
   "source": [
    "import os\n",
    "import sys\n",
    "sys.path.insert(0, os.path.abspath('../'))\n",
    "import datetime\n",
    "import IPython\n",
    "import IPython.display\n",
    "import matplotlib as mpl\n",
    "import matplotlib.pyplot as plt\n",
    "import numpy as np\n",
    "import pandas as pd\n",
    "import seaborn as sns\n",
    "import tensorflow as tf\n",
    "from TrajectoryObject import TrajectoryObj\n",
    "from FileIO import write_trajectory, read_trajectory, read_mosaic, read_localization, read_andi2_trajectory_label\n",
    "from andi_datasets.models_phenom import models_phenom\n",
    "from andi_datasets.datasets_phenom import datasets_phenom\n",
    "from andi_datasets.utils_trajectories import plot_trajs\n",
    "from andi_datasets.utils_challenge import label_continuous_to_list\n",
    "\n",
    "mpl.rcParams['figure.figsize'] = (8, 6)\n",
    "mpl.rcParams['axes.grid'] = False"
   ]
  },
  {
   "cell_type": "code",
   "execution_count": 2,
   "id": "4d1e046d-6957-4417-a329-96b7dc2b9f98",
   "metadata": {
    "executionInfo": {
     "elapsed": 250,
     "status": "ok",
     "timestamp": 1710432625226,
     "user": {
      "displayName": "Junwoo Park",
      "userId": "13503732136792353719"
     },
     "user_tz": -60
    },
    "id": "4d1e046d-6957-4417-a329-96b7dc2b9f98"
   },
   "outputs": [],
   "source": [
    "TIME_INTERVAL = 1\n",
    "NB_INPUT_FEATURES = 5\n",
    "NB_LABEL_FEATURES = 4\n",
    "WINDOW_WIDTH=10\n",
    "SHUFFLE=True\n",
    "MAX_EPOCHS = 300"
   ]
  },
  {
   "cell_type": "code",
   "execution_count": 3,
   "id": "3bc918a9-a824-4eab-bcf3-78ff1e9763c1",
   "metadata": {},
   "outputs": [],
   "source": [
    "N=1\n",
    "T=5000\n",
    "L = 1.5*128\n",
    "dict_model1 = {'model': 'multi_state', \n",
    "               'L': L,\n",
    "               'Ds': [[0.5, 0.0], [0.5, 0.0]],\n",
    "              'alphas': [1.2, 0.8]}\n",
    "dict_all = [dict_model1]"
   ]
  },
  {
   "cell_type": "code",
   "execution_count": 4,
   "id": "dc115902-f997-4395-9eb5-05876e24a689",
   "metadata": {},
   "outputs": [],
   "source": [
    "trajs_model, labels_model = models_phenom().multi_state(N=N,\n",
    "                                                              L=L,\n",
    "                                                              T=T,\n",
    "                                                              alphas=[0.6, 1.2],  # Fixed alpha for each state\n",
    "                                                              Ds=[[0.1, 0.0], [0.1, 0.0]],\n",
    "                                                              # Mean and variance of each state\n",
    "                                                              M=[[0.98, 0.02], [0.02, 0.98]]\n",
    "                                                              )"
   ]
  },
  {
   "cell_type": "code",
   "execution_count": 5,
   "id": "715fd5aa-02ec-4464-bf71-000d6a15fdff",
   "metadata": {},
   "outputs": [
    {
     "name": "stdout",
     "output_type": "stream",
     "text": [
      "change points: [  25   40  188  255  258  378  419  456  470  591  593  603  613  646\n",
      "  667  705  750  859  863  932  942  991 1135 1160 1286 1298 1332 1343\n",
      " 1436 1518 1556 1700 1786 1827 1830 1906 1927 1964 2077 2133 2134 2193\n",
      " 2228 2257 2289 2300 2463 2464 2465 2518 2536 2706 2710 2758 2792 2801\n",
      " 2823 2912 2995 3190 3207 3256 3360 3367 3413 3425 3440 3580 3657 3695\n",
      " 3696 3718 3720 3721 3751 3756 3854 3870 3895 3965 3977 3991 4101 4131\n",
      " 4205 4251 4261 4263 4322 4362 4415 4455 4505 4639 4664 4666 4735 4748\n",
      " 4809 4832 4833 4945 5000], (103,)\n",
      "alphas: [0.6 1.2 0.6 1.2 0.6 1.2 0.6 1.2 0.6 1.2 0.6 1.2 0.6 1.2 0.6 1.2 0.6 1.2\n",
      " 0.6 1.2 0.6 1.2 0.6 1.2 0.6 1.2 0.6 1.2 0.6 1.2 0.6 1.2 0.6 1.2 0.6 1.2\n",
      " 0.6 1.2 0.6 1.2 0.6 1.2 0.6 1.2 0.6 1.2 0.6 1.2 0.6 1.2 0.6 1.2 0.6 1.2\n",
      " 0.6 1.2 0.6 1.2 0.6 1.2 0.6 1.2 0.6 1.2 0.6 1.2 0.6 1.2 0.6 1.2 0.6 1.2\n",
      " 0.6 1.2 0.6 1.2 0.6 1.2 0.6 1.2 0.6 1.2 0.6 1.2 0.6 1.2 0.6 1.2 0.6 1.2\n",
      " 0.6 1.2 0.6 1.2 0.6 1.2 0.6 1.2 0.6 1.2 0.6 1.2 0.6], (103,)\n",
      "Ds: [0.1 0.1 0.1 0.1 0.1 0.1 0.1 0.1 0.1 0.1 0.1 0.1 0.1 0.1 0.1 0.1 0.1 0.1\n",
      " 0.1 0.1 0.1 0.1 0.1 0.1 0.1 0.1 0.1 0.1 0.1 0.1 0.1 0.1 0.1 0.1 0.1 0.1\n",
      " 0.1 0.1 0.1 0.1 0.1 0.1 0.1 0.1 0.1 0.1 0.1 0.1 0.1 0.1 0.1 0.1 0.1 0.1\n",
      " 0.1 0.1 0.1 0.1 0.1 0.1 0.1 0.1 0.1 0.1 0.1 0.1 0.1 0.1 0.1 0.1 0.1 0.1\n",
      " 0.1 0.1 0.1 0.1 0.1 0.1 0.1 0.1 0.1 0.1 0.1 0.1 0.1 0.1 0.1 0.1 0.1 0.1\n",
      " 0.1 0.1 0.1 0.1 0.1 0.1 0.1 0.1 0.1 0.1 0.1 0.1 0.1], (103,)\n",
      "State_nums: [2. 2. 2. 2. 2. 2. 2. 2. 2. 2. 2. 2. 2. 2. 2. 2. 2. 2. 2. 2. 2. 2. 2. 2.\n",
      " 2. 2. 2. 2. 2. 2. 2. 2. 2. 2. 2. 2. 2. 2. 2. 2. 2. 2. 2. 2. 2. 2. 2. 2.\n",
      " 2. 2. 2. 2. 2. 2. 2. 2. 2. 2. 2. 2. 2. 2. 2. 2. 2. 2. 2. 2. 2. 2. 2. 2.\n",
      " 2. 2. 2. 2. 2. 2. 2. 2. 2. 2. 2. 2. 2. 2. 2. 2. 2. 2. 2. 2. 2. 2. 2. 2.\n",
      " 2. 2. 2. 2. 2. 2. 2.], (103,)\n"
     ]
    }
   ],
   "source": [
    "changepoints, alphas, Ds, state_num = label_continuous_to_list(labels_model[:, 0, :])\n",
    "print(f'change points: {changepoints}, {changepoints.shape}')\n",
    "print(f'alphas: {alphas}, {alphas.shape}')\n",
    "print(f'Ds: {Ds}, {Ds.shape}')\n",
    "print(f'State_nums: {state_num}, {state_num.shape}')"
   ]
  },
  {
   "cell_type": "code",
   "execution_count": 6,
   "id": "089c664c-8746-4817-985a-a67b1cf0459f",
   "metadata": {},
   "outputs": [],
   "source": [
    "xs = trajs_model[:, 0, 0]\n",
    "ys = trajs_model[:, 0, 1]\n",
    "pos = np.array([xs, ys]).T\n",
    "trajectory_object = TrajectoryObj(index=0)\n",
    "for t, (x, y) in enumerate(pos):\n",
    "    trajectory_object.add_trajectory_position(t, x, y, 0.0)\n",
    "label_list = read_andi2_trajectory_label([Ds, alphas, state_num, changepoints])\n",
    "trajectory_label = label_list[0]"
   ]
  },
  {
   "cell_type": "code",
   "execution_count": 30,
   "id": "cd4aee65-bade-41e0-9b95-e45c625af6c5",
   "metadata": {
    "colab": {
     "base_uri": "https://localhost:8080/"
    },
    "executionInfo": {
     "elapsed": 267,
     "status": "ok",
     "timestamp": 1710432627082,
     "user": {
      "displayName": "Junwoo Park",
      "userId": "13503732136792353719"
     },
     "user_tz": -60
    },
    "id": "cd4aee65-bade-41e0-9b95-e45c625af6c5",
    "outputId": "165e4583-7fad-48ba-999a-45bb75ae65b8"
   },
   "outputs": [
    {
     "name": "stdout",
     "output_type": "stream",
     "text": [
      "(4, 167)\n",
      "[0.11307297 0.29040009 0.32801238 0.60620293 0.40873293 0.37981081\n",
      " 0.29876261 0.72632612 1.16533114 0.72088607]\n"
     ]
    }
   ],
   "source": [
    "\"\"\"\n",
    "trajectory_list = read_trajectory(f'data/trajs_fov_0.csv')\n",
    "label_list = read_andi2_trajectory_label(f'data/traj_labs_fov_0.txt')\n",
    "trajectory_object = trajectory_list[0]\n",
    "trajectory_label = label_list[0]\n",
    "\"\"\""
   ]
  },
  {
   "cell_type": "code",
   "execution_count": 9,
   "id": "5fcecf56-fe26-4693-84cf-b8f9ee1dd97c",
   "metadata": {
    "executionInfo": {
     "elapsed": 257,
     "status": "ok",
     "timestamp": 1710432628938,
     "user": {
      "displayName": "Junwoo Park",
      "userId": "13503732136792353719"
     },
     "user_tz": -60
    },
    "id": "5fcecf56-fe26-4693-84cf-b8f9ee1dd97c"
   },
   "outputs": [],
   "source": [
    "msd = trajectory_object.get_msd(time_interval=TIME_INTERVAL)\n",
    "diff_coefs = trajectory_object.get_diffusion_coefs(time_interval=TIME_INTERVAL)\n",
    "angles = trajectory_object.get_trajectory_angles(time_interval=TIME_INTERVAL)\n",
    "\n",
    "xs = trajectory_object.get_positions()[:,0]\n",
    "ys = trajectory_object.get_positions()[:,1]\n",
    "xs -= xs[0]\n",
    "ys -= ys[0]\n",
    "\n",
    "labeled_diff_coefs = trajectory_label[0]\n",
    "labeled_alphas = trajectory_label[1]\n",
    "labeled_states = trajectory_label[2]\n",
    "labeled_cps = trajectory_label[3]"
   ]
  },
  {
   "cell_type": "code",
   "execution_count": 10,
   "id": "0121219a-c5f0-4a96-9253-f3b3e78c1283",
   "metadata": {
    "colab": {
     "base_uri": "https://localhost:8080/"
    },
    "executionInfo": {
     "elapsed": 255,
     "status": "ok",
     "timestamp": 1710432630983,
     "user": {
      "displayName": "Junwoo Park",
      "userId": "13503732136792353719"
     },
     "user_tz": -60
    },
    "id": "0121219a-c5f0-4a96-9253-f3b3e78c1283",
    "outputId": "81ff9f59-ed3c-435c-eb41-bc3b8b082028"
   },
   "outputs": [
    {
     "name": "stdout",
     "output_type": "stream",
     "text": [
      "(5000,) (5000,) (5000,) (5000,) (5000,) (5000,) (5000,) (5000,) (5000,)\n"
     ]
    }
   ],
   "source": [
    "print(msd.shape, diff_coefs.shape, angles.shape, xs.shape, ys.shape, labeled_diff_coefs.shape, labeled_alphas.shape, labeled_states.shape, labeled_cps.shape)"
   ]
  },
  {
   "cell_type": "code",
   "execution_count": 11,
   "id": "1605ef64-9bd0-4df6-ae66-4b2a5e8933b7",
   "metadata": {
    "executionInfo": {
     "elapsed": 240,
     "status": "ok",
     "timestamp": 1710432632168,
     "user": {
      "displayName": "Junwoo Park",
      "userId": "13503732136792353719"
     },
     "user_tz": -60
    },
    "id": "1605ef64-9bd0-4df6-ae66-4b2a5e8933b7"
   },
   "outputs": [],
   "source": [
    "df = np.array([xs, ys, msd, diff_coefs, angles]).T\n",
    "df = pd.DataFrame(df, columns=['xs', 'ys', 'msd', 'diff_coefs', 'angles'])\n",
    "target_df = np.array([labeled_diff_coefs, labeled_alphas, labeled_states, labeled_cps]).T\n",
    "target_df = pd.DataFrame(target_df, columns=['lb_diff_coefs', 'alphas', 'states', 'cps'])"
   ]
  },
  {
   "cell_type": "code",
   "execution_count": 12,
   "id": "9c1d5e9f-b227-4eaa-b632-281e74429487",
   "metadata": {
    "executionInfo": {
     "elapsed": 232,
     "status": "ok",
     "timestamp": 1710432633806,
     "user": {
      "displayName": "Junwoo Park",
      "userId": "13503732136792353719"
     },
     "user_tz": -60
    },
    "id": "9c1d5e9f-b227-4eaa-b632-281e74429487"
   },
   "outputs": [],
   "source": [
    "n = len(df)\n",
    "train_df = df[0:int(n*0.7)]\n",
    "val_df = df[int(n*0.7):int(n*0.9)]\n",
    "test_df = df[int(n*0.9):]\n",
    "\n",
    "target_train_df = target_df[0:int(n*0.7)]\n",
    "target_val_df = target_df[int(n*0.7):int(n*0.9)]\n",
    "target_test_df = target_df[int(n*0.9):]"
   ]
  },
  {
   "cell_type": "code",
   "execution_count": 9,
   "id": "67125862-dbed-4d1f-8b1f-8b44d7be04fc",
   "metadata": {
    "colab": {
     "base_uri": "https://localhost:8080/",
     "height": 137
    },
    "executionInfo": {
     "elapsed": 9,
     "status": "ok",
     "timestamp": 1710431998228,
     "user": {
      "displayName": "Junwoo Park",
      "userId": "13503732136792353719"
     },
     "user_tz": -60
    },
    "id": "67125862-dbed-4d1f-8b1f-8b44d7be04fc",
    "outputId": "bc8b400c-66c0-4abe-c4d7-a142125ec6b4"
   },
   "outputs": [
    {
     "data": {
      "application/vnd.google.colaboratory.intrinsic+json": {
       "type": "string"
      },
      "text/plain": [
       "\"\\ntrain_mean = train_df.mean()\\ntrain_std = train_df.std()\\n\\nfor normallization_col in ['xs', 'ys', 'msd', 'diff_coefs', 'angles']:\\n    train_df[normallization_col] = (train_df[normallization_col] - train_mean[normallization_col]) / train_std[normallization_col]\\n    val_df[normallization_col] = (val_df[normallization_col] - train_mean[normallization_col]) / train_std[normallization_col]\\n    test_df[normallization_col] = (test_df[normallization_col] - train_mean[normallization_col]) / train_std[normallization_col]\\n\\ndf_std = (df - train_mean) / train_std\\ndf_std = df_std.melt(var_name='Column', value_name='Normalized')\\nplt.figure(figsize=(12, 6))\\nax = sns.violinplot(x='Column', y='Normalized', data=df_std)\\n_ = ax.set_xticklabels(df.keys(), rotation=90)\\n\\nprint(train_df.head())\\n\""
      ]
     },
     "execution_count": 9,
     "metadata": {},
     "output_type": "execute_result"
    }
   ],
   "source": [
    "\"\"\"\n",
    "train_mean = train_df.mean()\n",
    "train_std = train_df.std()\n",
    "\n",
    "for normallization_col in ['xs', 'ys', 'msd', 'diff_coefs', 'angles']:\n",
    "    train_df[normallization_col] = (train_df[normallization_col] - train_mean[normallization_col]) / train_std[normallization_col]\n",
    "    val_df[normallization_col] = (val_df[normallization_col] - train_mean[normallization_col]) / train_std[normallization_col]\n",
    "    test_df[normallization_col] = (test_df[normallization_col] - train_mean[normallization_col]) / train_std[normallization_col]\n",
    "\n",
    "df_std = (df - train_mean) / train_std\n",
    "df_std = df_std.melt(var_name='Column', value_name='Normalized')\n",
    "plt.figure(figsize=(12, 6))\n",
    "ax = sns.violinplot(x='Column', y='Normalized', data=df_std)\n",
    "_ = ax.set_xticklabels(df.keys(), rotation=90)\n",
    "\n",
    "print(train_df.head())\n",
    "\"\"\""
   ]
  },
  {
   "cell_type": "code",
   "execution_count": 13,
   "id": "f06f4704-392a-4161-a9b3-0cf69c520d4d",
   "metadata": {
    "executionInfo": {
     "elapsed": 234,
     "status": "ok",
     "timestamp": 1710432636822,
     "user": {
      "displayName": "Junwoo Park",
      "userId": "13503732136792353719"
     },
     "user_tz": -60
    },
    "id": "f06f4704-392a-4161-a9b3-0cf69c520d4d"
   },
   "outputs": [],
   "source": [
    "class WindowGenerator():\n",
    "  def __init__(self, input_width, shift,\n",
    "               train_df=train_df, val_df=val_df, test_df=test_df,\n",
    "               target_train_df=target_train_df, target_val_df=target_val_df,\n",
    "               target_test_df=target_test_df,\n",
    "               label_columns=None):\n",
    "    # Store the raw data.\n",
    "    self.train_df = np.array(train_df).reshape(train_df.shape[0], NB_INPUT_FEATURES, 1)\n",
    "    self.val_df = np.array(val_df).reshape(val_df.shape[0], NB_INPUT_FEATURES, 1)\n",
    "    self.test_df = np.array(test_df).reshape(test_df.shape[0], NB_INPUT_FEATURES, 1)\n",
    "\n",
    "    self.target_train_df = np.zeros((train_df.shape[0] + int(input_width//2), NB_LABEL_FEATURES))\n",
    "    self.target_val_df = np.zeros((val_df.shape[0] + int(input_width//2), NB_LABEL_FEATURES))\n",
    "    self.target_test_df = np.zeros((test_df.shape[0] + int(input_width//2), NB_LABEL_FEATURES))\n",
    "\n",
    "    self.target_train_df[int(input_width//2):] = target_train_df\n",
    "    self.target_val_df[int(input_width//2):] = target_val_df\n",
    "    self.target_test_df[int(input_width//2):] = target_test_df\n",
    "\n",
    "    # Work out the label column indices.\n",
    "    self.label_columns = label_columns\n",
    "    if label_columns is not None:\n",
    "      self.label_columns_indices = {name: i for i, name in\n",
    "                                    enumerate(label_columns)}\n",
    "    self.column_indices = {name: i for i, name in\n",
    "                           enumerate(train_df.columns)}\n",
    "\n",
    "    # Work out the window parameters.\n",
    "    self.input_width = input_width\n",
    "    self.shift = shift\n",
    "\n",
    "    self.total_window_size = input_width + shift\n",
    "\n",
    "    self.input_slice = slice(0, input_width)\n",
    "    self.input_indices = np.arange(self.total_window_size)[self.input_slice]\n",
    "\n",
    "    self.label_indices = self.input_indices[0:1] + int(input_width//2)\n",
    "\n",
    "    print('input_indices: ', self.input_indices)\n",
    "    print('label_indices: ', self.label_indices)\n",
    "\n",
    "  def __repr__(self):\n",
    "    return '\\n'.join([\n",
    "        f'Total window size: {self.total_window_size}',\n",
    "        f'Input indices: {self.input_indices}',\n",
    "        f'Label indices: {self.label_indices}',\n",
    "        f'Label column name(s): {self.label_columns}'])"
   ]
  },
  {
   "cell_type": "code",
   "execution_count": 14,
   "id": "f1f586f3-0ef9-4851-a870-18797fde944d",
   "metadata": {
    "executionInfo": {
     "elapsed": 246,
     "status": "ok",
     "timestamp": 1710432639633,
     "user": {
      "displayName": "Junwoo Park",
      "userId": "13503732136792353719"
     },
     "user_tz": -60
    },
    "id": "f1f586f3-0ef9-4851-a870-18797fde944d"
   },
   "outputs": [],
   "source": [
    "def split_window(self, *args):\n",
    "  inputs = args[0][:, self.input_slice, :, :]\n",
    "  labels = args[1][:,:]\n",
    "  if self.label_columns is not None:\n",
    "    labels = tf.stack(\n",
    "        [labels[:, :, self.column_indices[name]] for name in self.label_columns],\n",
    "        axis=-1)\n",
    "\n",
    "  # Slicing doesn't preserve static shape information, so set the shapes\n",
    "  # manually. This way the `tf.data.Datasets` are easier to inspect.\n",
    "  inputs.set_shape([None, self.input_width, None, None])\n",
    "  labels.set_shape([None, None])\n",
    "  return inputs, labels\n",
    "\n",
    "WindowGenerator.split_window = split_window"
   ]
  },
  {
   "cell_type": "code",
   "execution_count": 15,
   "id": "dc3ec352-fc8a-45ec-add0-ec96903be846",
   "metadata": {
    "executionInfo": {
     "elapsed": 270,
     "status": "ok",
     "timestamp": 1710432641171,
     "user": {
      "displayName": "Junwoo Park",
      "userId": "13503732136792353719"
     },
     "user_tz": -60
    },
    "id": "dc3ec352-fc8a-45ec-add0-ec96903be846"
   },
   "outputs": [],
   "source": [
    "def plot(self, model=None, plot_col='xs', max_subplots=3):\n",
    "  inputs, labels = self.example\n",
    "  plt.figure(figsize=(12, 8))\n",
    "  plot_col_index = self.column_indices[plot_col]\n",
    "  max_n = min(max_subplots, len(inputs))\n",
    "  for n in range(max_n):\n",
    "    plt.subplot(max_n, 1, n+1)\n",
    "    plt.ylabel(f'{plot_col} [normed]')\n",
    "    plt.plot(self.input_indices, inputs[n, :, plot_col_index],\n",
    "             label='Inputs', marker='.', zorder=-10)\n",
    "\n",
    "    if self.label_columns:\n",
    "      label_col_index = self.label_columns_indices.get(plot_col, None)\n",
    "    else:\n",
    "      label_col_index = plot_col_index\n",
    "\n",
    "    if label_col_index is None:\n",
    "      continue\n",
    "\n",
    "    plt.scatter(self.label_indices, labels[n, :, label_col_index],\n",
    "                edgecolors='k', label='Labels', c='#2ca02c', s=64)\n",
    "    if model is not None:\n",
    "      predictions = model(inputs)\n",
    "      print('pr', predictions.shape, n, label_col_index)\n",
    "      plt.scatter(self.label_indices, predictions[n, :, label_col_index],\n",
    "                  marker='X', edgecolors='k', label='Predictions',\n",
    "                  c='#ff7f0e', s=64)\n",
    "\n",
    "    if n == 0:\n",
    "      plt.legend()\n",
    "\n",
    "  plt.xlabel('Frame')\n",
    "\n",
    "WindowGenerator.plot = plot"
   ]
  },
  {
   "cell_type": "code",
   "execution_count": 16,
   "id": "47dcf5b6-0652-451f-8feb-b7d8481474db",
   "metadata": {
    "executionInfo": {
     "elapsed": 237,
     "status": "ok",
     "timestamp": 1710432643985,
     "user": {
      "displayName": "Junwoo Park",
      "userId": "13503732136792353719"
     },
     "user_tz": -60
    },
    "id": "47dcf5b6-0652-451f-8feb-b7d8481474db"
   },
   "outputs": [],
   "source": [
    "def make_dataset(self, data, targets):\n",
    "  data = np.array(data, dtype=np.float32)\n",
    "  targets = np.array(targets, dtype=np.float32)\n",
    "  ds = tf.keras.utils.timeseries_dataset_from_array(\n",
    "      data=data,\n",
    "      targets=targets,\n",
    "      sequence_length=self.total_window_size,\n",
    "      sequence_stride=1,\n",
    "      sampling_rate=1,\n",
    "      shuffle=SHUFFLE,\n",
    "      batch_size=32,)\n",
    "  ds = ds.map(self.split_window)\n",
    "  return ds\n",
    "\n",
    "WindowGenerator.make_dataset = make_dataset"
   ]
  },
  {
   "cell_type": "code",
   "execution_count": 17,
   "id": "7594a0dd-5b0c-4d0b-8c4c-5d726ef326c7",
   "metadata": {
    "executionInfo": {
     "elapsed": 282,
     "status": "ok",
     "timestamp": 1710432645581,
     "user": {
      "displayName": "Junwoo Park",
      "userId": "13503732136792353719"
     },
     "user_tz": -60
    },
    "id": "7594a0dd-5b0c-4d0b-8c4c-5d726ef326c7"
   },
   "outputs": [],
   "source": [
    "@property\n",
    "def train(self):\n",
    "  return self.make_dataset(self.train_df, self.target_train_df)\n",
    "\n",
    "@property\n",
    "def val(self):\n",
    "  return self.make_dataset(self.val_df, self.target_val_df)\n",
    "\n",
    "@property\n",
    "def test(self):\n",
    "  return self.make_dataset(self.test_df, self.target_test_df)\n",
    "\n",
    "@property\n",
    "def example(self):\n",
    "  \"\"\"Get and cache an example batch of `inputs, labels` for plotting.\"\"\"\n",
    "  result = getattr(self, '_example', None)\n",
    "  if result is None:\n",
    "    # No example batch was found, so get one from the `.train` dataset\n",
    "    result = next(iter(self.train))\n",
    "    # And cache it for next time\n",
    "    self._example = result\n",
    "  return result\n",
    "\n",
    "WindowGenerator.train = train\n",
    "WindowGenerator.val = val\n",
    "WindowGenerator.test = test\n",
    "WindowGenerator.example = example"
   ]
  },
  {
   "cell_type": "code",
   "execution_count": 18,
   "id": "3018599f-3212-4576-a35c-f8d72ad85f1f",
   "metadata": {
    "executionInfo": {
     "elapsed": 6,
     "status": "ok",
     "timestamp": 1710432732225,
     "user": {
      "displayName": "Junwoo Park",
      "userId": "13503732136792353719"
     },
     "user_tz": -60
    },
    "id": "3018599f-3212-4576-a35c-f8d72ad85f1f"
   },
   "outputs": [],
   "source": [
    "def compile_and_fit(model, window, patience=25):\n",
    "  early_stopping = tf.keras.callbacks.EarlyStopping(monitor='loss',\n",
    "                                                    patience=patience,\n",
    "                                                    mode='min')\n",
    "\n",
    "  model.compile(loss=tf.keras.losses.MeanSquaredError(),\n",
    "                optimizer=tf.keras.optimizers.Adam(),\n",
    "                metrics=[tf.keras.metrics.MeanAbsoluteError()])\n",
    "\n",
    "  history = model.fit(window.train, epochs=MAX_EPOCHS,\n",
    "                      validation_data=window.val,\n",
    "                      callbacks=[early_stopping])\n",
    "  return history"
   ]
  },
  {
   "cell_type": "code",
   "execution_count": 19,
   "id": "d3aa02e3-dc92-479a-bbae-cda1dafaf2bf",
   "metadata": {
    "executionInfo": {
     "elapsed": 329,
     "status": "ok",
     "timestamp": 1710432650279,
     "user": {
      "displayName": "Junwoo Park",
      "userId": "13503732136792353719"
     },
     "user_tz": -60
    },
    "id": "d3aa02e3-dc92-479a-bbae-cda1dafaf2bf"
   },
   "outputs": [],
   "source": [
    "class ResidualWrapper(tf.keras.Model):\n",
    "  def __init__(self, model):\n",
    "    super().__init__()\n",
    "    self.model = model\n",
    "\n",
    "  def call(self, inputs, *args, **kwargs):\n",
    "    delta = self.model(inputs, *args, **kwargs)\n",
    "\n",
    "    # The prediction for each time step is the input\n",
    "    # from the previous time step plus the delta\n",
    "    # calculated by the model.\n",
    "    return inputs + delta"
   ]
  },
  {
   "cell_type": "code",
   "execution_count": 20,
   "id": "33da0059-5700-45c9-8e5b-6cfcff6193a8",
   "metadata": {
    "colab": {
     "base_uri": "https://localhost:8080/"
    },
    "executionInfo": {
     "elapsed": 703,
     "status": "ok",
     "timestamp": 1710432736291,
     "user": {
      "displayName": "Junwoo Park",
      "userId": "13503732136792353719"
     },
     "user_tz": -60
    },
    "id": "33da0059-5700-45c9-8e5b-6cfcff6193a8",
    "outputId": "e1bff45d-e79a-4eeb-fa80-9ab578be19a8"
   },
   "outputs": [
    {
     "name": "stdout",
     "output_type": "stream",
     "text": [
      "input_indices:  [0 1 2 3 4 5 6 7 8 9]\n",
      "label_indices:  [5]\n"
     ]
    },
    {
     "name": "stderr",
     "output_type": "stream",
     "text": [
      "2024-03-15 10:42:46.162126: I tensorflow/compiler/xla/stream_executor/cuda/cuda_gpu_executor.cc:981] could not open file to read NUMA node: /sys/bus/pci/devices/0000:0b:00.0/numa_node\n",
      "Your kernel may have been built without NUMA support.\n",
      "2024-03-15 10:42:46.194208: I tensorflow/compiler/xla/stream_executor/cuda/cuda_gpu_executor.cc:981] could not open file to read NUMA node: /sys/bus/pci/devices/0000:0b:00.0/numa_node\n",
      "Your kernel may have been built without NUMA support.\n",
      "2024-03-15 10:42:46.194258: I tensorflow/compiler/xla/stream_executor/cuda/cuda_gpu_executor.cc:981] could not open file to read NUMA node: /sys/bus/pci/devices/0000:0b:00.0/numa_node\n",
      "Your kernel may have been built without NUMA support.\n",
      "2024-03-15 10:42:46.198249: I tensorflow/compiler/xla/stream_executor/cuda/cuda_gpu_executor.cc:981] could not open file to read NUMA node: /sys/bus/pci/devices/0000:0b:00.0/numa_node\n",
      "Your kernel may have been built without NUMA support.\n",
      "2024-03-15 10:42:46.198311: I tensorflow/compiler/xla/stream_executor/cuda/cuda_gpu_executor.cc:981] could not open file to read NUMA node: /sys/bus/pci/devices/0000:0b:00.0/numa_node\n",
      "Your kernel may have been built without NUMA support.\n",
      "2024-03-15 10:42:46.198343: I tensorflow/compiler/xla/stream_executor/cuda/cuda_gpu_executor.cc:981] could not open file to read NUMA node: /sys/bus/pci/devices/0000:0b:00.0/numa_node\n",
      "Your kernel may have been built without NUMA support.\n",
      "2024-03-15 10:42:47.199016: I tensorflow/compiler/xla/stream_executor/cuda/cuda_gpu_executor.cc:981] could not open file to read NUMA node: /sys/bus/pci/devices/0000:0b:00.0/numa_node\n",
      "Your kernel may have been built without NUMA support.\n",
      "2024-03-15 10:42:47.199096: I tensorflow/compiler/xla/stream_executor/cuda/cuda_gpu_executor.cc:981] could not open file to read NUMA node: /sys/bus/pci/devices/0000:0b:00.0/numa_node\n",
      "Your kernel may have been built without NUMA support.\n",
      "2024-03-15 10:42:47.199104: I tensorflow/core/common_runtime/gpu/gpu_device.cc:1726] Could not identify NUMA node of platform GPU id 0, defaulting to 0.  Your kernel may not have been built with NUMA support.\n",
      "2024-03-15 10:42:47.199154: I tensorflow/compiler/xla/stream_executor/cuda/cuda_gpu_executor.cc:981] could not open file to read NUMA node: /sys/bus/pci/devices/0000:0b:00.0/numa_node\n",
      "Your kernel may have been built without NUMA support.\n",
      "2024-03-15 10:42:47.199194: I tensorflow/core/common_runtime/gpu/gpu_device.cc:1639] Created device /job:localhost/replica:0/task:0/device:GPU:0 with 21612 MB memory:  -> device: 0, name: NVIDIA GeForce RTX 3090, pci bus id: 0000:0b:00.0, compute capability: 8.6\n"
     ]
    },
    {
     "name": "stdout",
     "output_type": "stream",
     "text": [
      "Inputs shape (batch, time, features): (32, 10, 5, 1)\n",
      "Labels shape (batch, time, features): (32, 4)\n"
     ]
    }
   ],
   "source": [
    "wide_window = WindowGenerator(\n",
    "    input_width=WINDOW_WIDTH, shift=1)\n",
    "\n",
    "for example_inputs, example_labels in wide_window.train.take(1):\n",
    "  print(f'Inputs shape (batch, time, features): {example_inputs.shape}')\n",
    "  print(f'Labels shape (batch, time, features): {example_labels.shape}')"
   ]
  },
  {
   "cell_type": "code",
   "execution_count": 21,
   "id": "fHoXIfiUM2KG",
   "metadata": {
    "colab": {
     "base_uri": "https://localhost:8080/"
    },
    "executionInfo": {
     "elapsed": 240,
     "status": "ok",
     "timestamp": 1710432653977,
     "user": {
      "displayName": "Junwoo Park",
      "userId": "13503732136792353719"
     },
     "user_tz": -60
    },
    "id": "fHoXIfiUM2KG",
    "outputId": "fdf89248-8f28-4ee5-f2ca-0e25da456177"
   },
   "outputs": [
    {
     "data": {
      "text/plain": [
       "Total window size: 11\n",
       "Input indices: [0 1 2 3 4 5 6 7 8 9]\n",
       "Label indices: [5]\n",
       "Label column name(s): None"
      ]
     },
     "execution_count": 21,
     "metadata": {},
     "output_type": "execute_result"
    }
   ],
   "source": [
    "wide_window"
   ]
  },
  {
   "cell_type": "code",
   "execution_count": 21,
   "id": "1aa2b480-3327-441a-b89b-b5cee11c1759",
   "metadata": {
    "colab": {
     "base_uri": "https://localhost:8080/"
    },
    "executionInfo": {
     "elapsed": 10492569,
     "status": "ok",
     "timestamp": 1710444051018,
     "user": {
      "displayName": "Junwoo Park",
      "userId": "13503732136792353719"
     },
     "user_tz": -60
    },
    "id": "1aa2b480-3327-441a-b89b-b5cee11c1759",
    "outputId": "f6ac2d40-a3d9-476f-b7ac-63d3d92d9529"
   },
   "outputs": [
    {
     "name": "stdout",
     "output_type": "stream",
     "text": [
      "Epoch 1/300\n",
      "4/4 [==============================] - 32s 7s/step - loss: 205.6892 - mean_absolute_error: 6.5465 - val_loss: 0.4977 - val_mean_absolute_error: 0.5235\n",
      "Epoch 2/300\n",
      "4/4 [==============================] - 30s 7s/step - loss: 3.7144 - mean_absolute_error: 1.3713 - val_loss: 72.9843 - val_mean_absolute_error: 7.2018\n",
      "Epoch 3/300\n",
      "4/4 [==============================] - 29s 7s/step - loss: 10.4790 - mean_absolute_error: 2.3962 - val_loss: 99.7153 - val_mean_absolute_error: 7.7616\n",
      "Epoch 4/300\n",
      "4/4 [==============================] - 30s 7s/step - loss: 446.5797 - mean_absolute_error: 10.3832 - val_loss: 2105.5168 - val_mean_absolute_error: 38.2339\n",
      "Epoch 5/300\n",
      "4/4 [==============================] - 29s 7s/step - loss: 410.2395 - mean_absolute_error: 15.7581 - val_loss: 17102.4785 - val_mean_absolute_error: 106.1615\n",
      "Epoch 6/300\n",
      "4/4 [==============================] - 29s 7s/step - loss: 1702.1250 - mean_absolute_error: 31.6333 - val_loss: 1029.3251 - val_mean_absolute_error: 26.5472\n",
      "Epoch 7/300\n",
      "4/4 [==============================] - 29s 7s/step - loss: 128.8569 - mean_absolute_error: 8.1651 - val_loss: 3538.5586 - val_mean_absolute_error: 49.3173\n",
      "Epoch 8/300\n",
      "4/4 [==============================] - 29s 7s/step - loss: 120.1689 - mean_absolute_error: 8.4540 - val_loss: 479.0988 - val_mean_absolute_error: 18.1875\n",
      "Epoch 9/300\n",
      "4/4 [==============================] - 30s 7s/step - loss: 31.4930 - mean_absolute_error: 4.0155 - val_loss: 85.0668 - val_mean_absolute_error: 6.9996\n",
      "Epoch 10/300\n",
      "4/4 [==============================] - 29s 7s/step - loss: 32.2290 - mean_absolute_error: 3.9668 - val_loss: 454.9588 - val_mean_absolute_error: 17.5854\n",
      "Epoch 11/300\n",
      "4/4 [==============================] - 31s 8s/step - loss: 15.5911 - mean_absolute_error: 2.6014 - val_loss: 199.0396 - val_mean_absolute_error: 11.3108\n",
      "Epoch 12/300\n",
      "4/4 [==============================] - 29s 7s/step - loss: 11.8355 - mean_absolute_error: 2.4425 - val_loss: 52.6753 - val_mean_absolute_error: 4.6855\n",
      "Epoch 13/300\n",
      "4/4 [==============================] - 30s 7s/step - loss: 11.4606 - mean_absolute_error: 2.5248 - val_loss: 38.0373 - val_mean_absolute_error: 3.8495\n",
      "Epoch 14/300\n",
      "4/4 [==============================] - 29s 7s/step - loss: 4.0552 - mean_absolute_error: 1.4017 - val_loss: 40.9790 - val_mean_absolute_error: 4.9189\n",
      "Epoch 15/300\n",
      "4/4 [==============================] - 30s 7s/step - loss: 4.5229 - mean_absolute_error: 1.6027 - val_loss: 52.6885 - val_mean_absolute_error: 5.9637\n",
      "Epoch 16/300\n",
      "4/4 [==============================] - 29s 7s/step - loss: 1.7960 - mean_absolute_error: 1.0004 - val_loss: 21.0444 - val_mean_absolute_error: 3.4275\n",
      "Epoch 17/300\n",
      "4/4 [==============================] - 29s 7s/step - loss: 0.8118 - mean_absolute_error: 0.6493 - val_loss: 15.6777 - val_mean_absolute_error: 2.8583\n",
      "Epoch 18/300\n",
      "4/4 [==============================] - 30s 7s/step - loss: 1.0533 - mean_absolute_error: 0.7708 - val_loss: 19.1555 - val_mean_absolute_error: 3.3079\n",
      "Epoch 19/300\n",
      "4/4 [==============================] - 29s 7s/step - loss: 0.4662 - mean_absolute_error: 0.4925 - val_loss: 26.1038 - val_mean_absolute_error: 3.8272\n",
      "Epoch 20/300\n",
      "4/4 [==============================] - 29s 7s/step - loss: 0.2949 - mean_absolute_error: 0.3588 - val_loss: 28.7539 - val_mean_absolute_error: 3.9034\n",
      "Epoch 21/300\n",
      "4/4 [==============================] - 29s 7s/step - loss: 0.4107 - mean_absolute_error: 0.4310 - val_loss: 24.6731 - val_mean_absolute_error: 3.5121\n",
      "Epoch 22/300\n",
      "4/4 [==============================] - 30s 7s/step - loss: 0.3199 - mean_absolute_error: 0.3780 - val_loss: 16.8405 - val_mean_absolute_error: 2.8118\n",
      "Epoch 23/300\n",
      "4/4 [==============================] - 29s 7s/step - loss: 0.1690 - mean_absolute_error: 0.2692 - val_loss: 10.4164 - val_mean_absolute_error: 2.1837\n",
      "Epoch 24/300\n",
      "4/4 [==============================] - 30s 7s/step - loss: 0.1390 - mean_absolute_error: 0.2627 - val_loss: 7.4522 - val_mean_absolute_error: 1.9807\n",
      "Epoch 25/300\n",
      "4/4 [==============================] - 29s 7s/step - loss: 0.1454 - mean_absolute_error: 0.2703 - val_loss: 7.1763 - val_mean_absolute_error: 2.0190\n",
      "Epoch 26/300\n",
      "4/4 [==============================] - 29s 7s/step - loss: 0.1027 - mean_absolute_error: 0.2219 - val_loss: 8.1101 - val_mean_absolute_error: 2.1610\n",
      "Epoch 27/300\n",
      "4/4 [==============================] - 31s 7s/step - loss: 0.0734 - mean_absolute_error: 0.1772 - val_loss: 9.3370 - val_mean_absolute_error: 2.3021\n",
      "Epoch 28/300\n",
      "4/4 [==============================] - 29s 7s/step - loss: 0.0719 - mean_absolute_error: 0.1702 - val_loss: 10.2787 - val_mean_absolute_error: 2.3681\n",
      "Epoch 29/300\n",
      "4/4 [==============================] - 29s 7s/step - loss: 0.0712 - mean_absolute_error: 0.1689 - val_loss: 10.8374 - val_mean_absolute_error: 2.3689\n",
      "Epoch 30/300\n",
      "4/4 [==============================] - 31s 7s/step - loss: 0.0628 - mean_absolute_error: 0.1547 - val_loss: 10.9735 - val_mean_absolute_error: 2.3211\n",
      "Epoch 31/300\n",
      "4/4 [==============================] - 30s 7s/step - loss: 0.0563 - mean_absolute_error: 0.1476 - val_loss: 11.0172 - val_mean_absolute_error: 2.2892\n",
      "Epoch 32/300\n",
      "4/4 [==============================] - 30s 8s/step - loss: 0.0560 - mean_absolute_error: 0.1491 - val_loss: 11.2470 - val_mean_absolute_error: 2.2953\n",
      "Epoch 33/300\n",
      "4/4 [==============================] - 29s 7s/step - loss: 0.0550 - mean_absolute_error: 0.1470 - val_loss: 11.7041 - val_mean_absolute_error: 2.3396\n",
      "Epoch 34/300\n",
      "4/4 [==============================] - 30s 7s/step - loss: 0.0525 - mean_absolute_error: 0.1409 - val_loss: 12.1376 - val_mean_absolute_error: 2.3880\n",
      "Epoch 35/300\n",
      "4/4 [==============================] - 29s 7s/step - loss: 0.0513 - mean_absolute_error: 0.1374 - val_loss: 12.4135 - val_mean_absolute_error: 2.4216\n",
      "Epoch 36/300\n",
      "4/4 [==============================] - 30s 7s/step - loss: 0.0508 - mean_absolute_error: 0.1359 - val_loss: 12.5042 - val_mean_absolute_error: 2.4362\n",
      "Epoch 37/300\n",
      "4/4 [==============================] - 31s 7s/step - loss: 0.0500 - mean_absolute_error: 0.1345 - val_loss: 12.3774 - val_mean_absolute_error: 2.4330\n",
      "Epoch 38/300\n",
      "4/4 [==============================] - 29s 7s/step - loss: 0.0486 - mean_absolute_error: 0.1323 - val_loss: 12.0147 - val_mean_absolute_error: 2.4008\n",
      "Epoch 39/300\n",
      "4/4 [==============================] - 29s 7s/step - loss: 0.0473 - mean_absolute_error: 0.1309 - val_loss: 11.9146 - val_mean_absolute_error: 2.3992\n",
      "Epoch 40/300\n",
      "4/4 [==============================] - 29s 7s/step - loss: 0.0466 - mean_absolute_error: 0.1295 - val_loss: 11.7638 - val_mean_absolute_error: 2.3923\n",
      "Epoch 41/300\n",
      "4/4 [==============================] - 29s 7s/step - loss: 0.0458 - mean_absolute_error: 0.1283 - val_loss: 11.6878 - val_mean_absolute_error: 2.3884\n",
      "Epoch 42/300\n",
      "4/4 [==============================] - 31s 7s/step - loss: 0.0451 - mean_absolute_error: 0.1271 - val_loss: 11.6754 - val_mean_absolute_error: 2.3915\n",
      "Epoch 43/300\n",
      "4/4 [==============================] - 30s 7s/step - loss: 0.0448 - mean_absolute_error: 0.1270 - val_loss: 11.4378 - val_mean_absolute_error: 2.3673\n",
      "Epoch 44/300\n",
      "4/4 [==============================] - 33s 8s/step - loss: 0.0438 - mean_absolute_error: 0.1250 - val_loss: 11.1600 - val_mean_absolute_error: 2.3463\n",
      "Epoch 45/300\n",
      "4/4 [==============================] - 30s 7s/step - loss: 0.0432 - mean_absolute_error: 0.1226 - val_loss: 10.9671 - val_mean_absolute_error: 2.3315\n",
      "Epoch 46/300\n",
      "4/4 [==============================] - 29s 7s/step - loss: 0.0428 - mean_absolute_error: 0.1214 - val_loss: 10.7080 - val_mean_absolute_error: 2.3032\n",
      "Epoch 47/300\n",
      "4/4 [==============================] - 31s 7s/step - loss: 0.0420 - mean_absolute_error: 0.1201 - val_loss: 10.3618 - val_mean_absolute_error: 2.2532\n",
      "Epoch 48/300\n",
      "4/4 [==============================] - 31s 7s/step - loss: 0.0415 - mean_absolute_error: 0.1206 - val_loss: 10.0929 - val_mean_absolute_error: 2.2161\n",
      "Epoch 49/300\n",
      "4/4 [==============================] - 30s 7s/step - loss: 0.0416 - mean_absolute_error: 0.1215 - val_loss: 9.7407 - val_mean_absolute_error: 2.1772\n",
      "Epoch 50/300\n",
      "4/4 [==============================] - 33s 8s/step - loss: 0.0403 - mean_absolute_error: 0.1181 - val_loss: 9.6980 - val_mean_absolute_error: 2.1815\n",
      "Epoch 51/300\n",
      "4/4 [==============================] - 29s 7s/step - loss: 0.0393 - mean_absolute_error: 0.1145 - val_loss: 9.5892 - val_mean_absolute_error: 2.1747\n",
      "Epoch 52/300\n",
      "4/4 [==============================] - 29s 7s/step - loss: 0.0401 - mean_absolute_error: 0.1148 - val_loss: 9.4463 - val_mean_absolute_error: 2.1607\n",
      "Epoch 53/300\n",
      "4/4 [==============================] - 29s 7s/step - loss: 0.0388 - mean_absolute_error: 0.1129 - val_loss: 9.0190 - val_mean_absolute_error: 2.1038\n",
      "Epoch 54/300\n",
      "4/4 [==============================] - 29s 7s/step - loss: 0.0376 - mean_absolute_error: 0.1117 - val_loss: 8.6603 - val_mean_absolute_error: 2.0554\n",
      "Epoch 55/300\n",
      "4/4 [==============================] - 29s 7s/step - loss: 0.0389 - mean_absolute_error: 0.1151 - val_loss: 8.3552 - val_mean_absolute_error: 2.0170\n",
      "Epoch 56/300\n",
      "4/4 [==============================] - 29s 7s/step - loss: 0.0375 - mean_absolute_error: 0.1113 - val_loss: 8.3878 - val_mean_absolute_error: 2.0310\n",
      "Epoch 57/300\n",
      "4/4 [==============================] - 29s 7s/step - loss: 0.0375 - mean_absolute_error: 0.1088 - val_loss: 8.3779 - val_mean_absolute_error: 2.0319\n",
      "Epoch 58/300\n",
      "4/4 [==============================] - 29s 7s/step - loss: 0.0377 - mean_absolute_error: 0.1079 - val_loss: 8.1472 - val_mean_absolute_error: 1.9927\n",
      "Epoch 59/300\n",
      "4/4 [==============================] - 29s 7s/step - loss: 0.0363 - mean_absolute_error: 0.1062 - val_loss: 7.7637 - val_mean_absolute_error: 1.9343\n",
      "Epoch 60/300\n",
      "4/4 [==============================] - 31s 7s/step - loss: 0.0356 - mean_absolute_error: 0.1064 - val_loss: 7.2828 - val_mean_absolute_error: 1.8645\n",
      "Epoch 61/300\n",
      "4/4 [==============================] - 31s 7s/step - loss: 0.0359 - mean_absolute_error: 0.1073 - val_loss: 7.1100 - val_mean_absolute_error: 1.8415\n",
      "Epoch 62/300\n",
      "4/4 [==============================] - 30s 7s/step - loss: 0.0349 - mean_absolute_error: 0.1049 - val_loss: 7.0834 - val_mean_absolute_error: 1.8421\n",
      "Epoch 63/300\n",
      "4/4 [==============================] - 33s 7s/step - loss: 0.0344 - mean_absolute_error: 0.1023 - val_loss: 7.0844 - val_mean_absolute_error: 1.8439\n",
      "Epoch 64/300\n",
      "4/4 [==============================] - 29s 7s/step - loss: 0.0343 - mean_absolute_error: 0.1018 - val_loss: 6.8334 - val_mean_absolute_error: 1.8081\n",
      "Epoch 65/300\n",
      "4/4 [==============================] - 30s 7s/step - loss: 0.0342 - mean_absolute_error: 0.1022 - val_loss: 6.4253 - val_mean_absolute_error: 1.7483\n",
      "Epoch 66/300\n",
      "4/4 [==============================] - 29s 7s/step - loss: 0.0336 - mean_absolute_error: 0.1013 - val_loss: 6.2767 - val_mean_absolute_error: 1.7311\n",
      "Epoch 67/300\n",
      "4/4 [==============================] - 29s 7s/step - loss: 0.0331 - mean_absolute_error: 0.0999 - val_loss: 6.1512 - val_mean_absolute_error: 1.7158\n",
      "Epoch 68/300\n",
      "4/4 [==============================] - 29s 7s/step - loss: 0.0328 - mean_absolute_error: 0.0987 - val_loss: 6.0763 - val_mean_absolute_error: 1.7061\n",
      "Epoch 69/300\n",
      "4/4 [==============================] - 29s 7s/step - loss: 0.0325 - mean_absolute_error: 0.0974 - val_loss: 5.9584 - val_mean_absolute_error: 1.6904\n",
      "Epoch 70/300\n",
      "4/4 [==============================] - 29s 7s/step - loss: 0.0322 - mean_absolute_error: 0.0969 - val_loss: 5.7353 - val_mean_absolute_error: 1.6584\n",
      "Epoch 71/300\n",
      "4/4 [==============================] - 29s 7s/step - loss: 0.0320 - mean_absolute_error: 0.0960 - val_loss: 5.6382 - val_mean_absolute_error: 1.6451\n",
      "Epoch 72/300\n",
      "4/4 [==============================] - 29s 7s/step - loss: 0.0317 - mean_absolute_error: 0.0950 - val_loss: 5.5130 - val_mean_absolute_error: 1.6230\n",
      "Epoch 73/300\n",
      "4/4 [==============================] - 29s 7s/step - loss: 0.0312 - mean_absolute_error: 0.0945 - val_loss: 5.3922 - val_mean_absolute_error: 1.6022\n",
      "Epoch 74/300\n",
      "4/4 [==============================] - 29s 7s/step - loss: 0.0312 - mean_absolute_error: 0.0950 - val_loss: 5.2761 - val_mean_absolute_error: 1.5860\n",
      "Epoch 75/300\n",
      "4/4 [==============================] - 30s 7s/step - loss: 0.0308 - mean_absolute_error: 0.0934 - val_loss: 5.1852 - val_mean_absolute_error: 1.5751\n",
      "Epoch 76/300\n",
      "4/4 [==============================] - 30s 8s/step - loss: 0.0306 - mean_absolute_error: 0.0930 - val_loss: 5.0542 - val_mean_absolute_error: 1.5522\n",
      "Epoch 77/300\n",
      "4/4 [==============================] - 29s 7s/step - loss: 0.0303 - mean_absolute_error: 0.0919 - val_loss: 4.9104 - val_mean_absolute_error: 1.5236\n",
      "Epoch 78/300\n",
      "4/4 [==============================] - 29s 7s/step - loss: 0.0300 - mean_absolute_error: 0.0913 - val_loss: 4.7768 - val_mean_absolute_error: 1.4987\n",
      "Epoch 79/300\n",
      "4/4 [==============================] - 29s 7s/step - loss: 0.0298 - mean_absolute_error: 0.0910 - val_loss: 4.6300 - val_mean_absolute_error: 1.4744\n",
      "Epoch 80/300\n",
      "4/4 [==============================] - 29s 7s/step - loss: 0.0297 - mean_absolute_error: 0.0899 - val_loss: 4.6263 - val_mean_absolute_error: 1.4757\n",
      "Epoch 81/300\n",
      "4/4 [==============================] - 29s 7s/step - loss: 0.0293 - mean_absolute_error: 0.0892 - val_loss: 4.5683 - val_mean_absolute_error: 1.4680\n",
      "Epoch 82/300\n",
      "4/4 [==============================] - 29s 7s/step - loss: 0.0291 - mean_absolute_error: 0.0886 - val_loss: 4.4940 - val_mean_absolute_error: 1.4577\n",
      "Epoch 83/300\n",
      "4/4 [==============================] - 29s 7s/step - loss: 0.0290 - mean_absolute_error: 0.0881 - val_loss: 4.4404 - val_mean_absolute_error: 1.4494\n",
      "Epoch 84/300\n",
      "4/4 [==============================] - 29s 7s/step - loss: 0.0287 - mean_absolute_error: 0.0878 - val_loss: 4.3870 - val_mean_absolute_error: 1.4406\n",
      "Epoch 85/300\n",
      "4/4 [==============================] - 29s 7s/step - loss: 0.0286 - mean_absolute_error: 0.0877 - val_loss: 4.2630 - val_mean_absolute_error: 1.4167\n",
      "Epoch 86/300\n",
      "4/4 [==============================] - 29s 7s/step - loss: 0.0285 - mean_absolute_error: 0.0879 - val_loss: 4.2251 - val_mean_absolute_error: 1.4087\n",
      "Epoch 87/300\n",
      "4/4 [==============================] - 29s 7s/step - loss: 0.0282 - mean_absolute_error: 0.0872 - val_loss: 4.1750 - val_mean_absolute_error: 1.4016\n",
      "Epoch 88/300\n",
      "4/4 [==============================] - 30s 7s/step - loss: 0.0281 - mean_absolute_error: 0.0861 - val_loss: 4.0825 - val_mean_absolute_error: 1.3836\n",
      "Epoch 89/300\n",
      "4/4 [==============================] - 30s 7s/step - loss: 0.0278 - mean_absolute_error: 0.0854 - val_loss: 3.9924 - val_mean_absolute_error: 1.3640\n",
      "Epoch 90/300\n",
      "4/4 [==============================] - 30s 7s/step - loss: 0.0277 - mean_absolute_error: 0.0858 - val_loss: 3.8567 - val_mean_absolute_error: 1.3363\n",
      "Epoch 91/300\n",
      "4/4 [==============================] - 30s 8s/step - loss: 0.0276 - mean_absolute_error: 0.0855 - val_loss: 3.6768 - val_mean_absolute_error: 1.3033\n",
      "Epoch 92/300\n",
      "4/4 [==============================] - 29s 7s/step - loss: 0.0274 - mean_absolute_error: 0.0848 - val_loss: 3.6032 - val_mean_absolute_error: 1.2894\n",
      "Epoch 93/300\n",
      "4/4 [==============================] - 29s 7s/step - loss: 0.0272 - mean_absolute_error: 0.0829 - val_loss: 3.5293 - val_mean_absolute_error: 1.2706\n",
      "Epoch 94/300\n",
      "4/4 [==============================] - 29s 7s/step - loss: 0.0272 - mean_absolute_error: 0.0835 - val_loss: 3.4033 - val_mean_absolute_error: 1.2433\n",
      "Epoch 95/300\n",
      "4/4 [==============================] - 29s 7s/step - loss: 0.0269 - mean_absolute_error: 0.0831 - val_loss: 3.2584 - val_mean_absolute_error: 1.2136\n",
      "Epoch 96/300\n",
      "4/4 [==============================] - 29s 7s/step - loss: 0.0268 - mean_absolute_error: 0.0830 - val_loss: 3.1721 - val_mean_absolute_error: 1.1960\n",
      "Epoch 97/300\n",
      "4/4 [==============================] - 29s 7s/step - loss: 0.0267 - mean_absolute_error: 0.0825 - val_loss: 3.1622 - val_mean_absolute_error: 1.1949\n",
      "Epoch 98/300\n",
      "4/4 [==============================] - 29s 7s/step - loss: 0.0264 - mean_absolute_error: 0.0812 - val_loss: 3.1575 - val_mean_absolute_error: 1.1931\n",
      "Epoch 99/300\n",
      "4/4 [==============================] - 29s 7s/step - loss: 0.0262 - mean_absolute_error: 0.0807 - val_loss: 3.0729 - val_mean_absolute_error: 1.1761\n",
      "Epoch 100/300\n",
      "4/4 [==============================] - 29s 7s/step - loss: 0.0261 - mean_absolute_error: 0.0802 - val_loss: 2.9500 - val_mean_absolute_error: 1.1495\n",
      "Epoch 101/300\n",
      "4/4 [==============================] - 29s 7s/step - loss: 0.0260 - mean_absolute_error: 0.0802 - val_loss: 2.8244 - val_mean_absolute_error: 1.1220\n",
      "Epoch 102/300\n",
      "4/4 [==============================] - 29s 7s/step - loss: 0.0259 - mean_absolute_error: 0.0795 - val_loss: 2.7942 - val_mean_absolute_error: 1.1146\n",
      "Epoch 103/300\n",
      "4/4 [==============================] - 29s 7s/step - loss: 0.0257 - mean_absolute_error: 0.0794 - val_loss: 2.7593 - val_mean_absolute_error: 1.1061\n",
      "Epoch 104/300\n",
      "4/4 [==============================] - 31s 7s/step - loss: 0.0255 - mean_absolute_error: 0.0791 - val_loss: 2.6703 - val_mean_absolute_error: 1.0862\n",
      "Epoch 105/300\n",
      "4/4 [==============================] - 29s 7s/step - loss: 0.0254 - mean_absolute_error: 0.0788 - val_loss: 2.6343 - val_mean_absolute_error: 1.0775\n",
      "Epoch 106/300\n",
      "4/4 [==============================] - 29s 7s/step - loss: 0.0256 - mean_absolute_error: 0.0796 - val_loss: 2.6790 - val_mean_absolute_error: 1.0887\n",
      "Epoch 107/300\n",
      "4/4 [==============================] - 29s 7s/step - loss: 0.0254 - mean_absolute_error: 0.0797 - val_loss: 2.7418 - val_mean_absolute_error: 1.1080\n",
      "Epoch 108/300\n",
      "4/4 [==============================] - 29s 7s/step - loss: 0.0250 - mean_absolute_error: 0.0785 - val_loss: 2.7452 - val_mean_absolute_error: 1.1152\n",
      "Epoch 109/300\n",
      "4/4 [==============================] - 29s 7s/step - loss: 0.0255 - mean_absolute_error: 0.0793 - val_loss: 2.7624 - val_mean_absolute_error: 1.1164\n",
      "Epoch 110/300\n",
      "4/4 [==============================] - 29s 7s/step - loss: 0.0250 - mean_absolute_error: 0.0782 - val_loss: 2.6751 - val_mean_absolute_error: 1.0920\n",
      "Epoch 111/300\n",
      "4/4 [==============================] - 29s 7s/step - loss: 0.0251 - mean_absolute_error: 0.0791 - val_loss: 2.5198 - val_mean_absolute_error: 1.0546\n",
      "Epoch 112/300\n",
      "4/4 [==============================] - 29s 7s/step - loss: 0.0249 - mean_absolute_error: 0.0779 - val_loss: 2.4553 - val_mean_absolute_error: 1.0401\n",
      "Epoch 113/300\n",
      "4/4 [==============================] - 29s 7s/step - loss: 0.0246 - mean_absolute_error: 0.0763 - val_loss: 2.4385 - val_mean_absolute_error: 1.0351\n",
      "Epoch 114/300\n",
      "4/4 [==============================] - 29s 7s/step - loss: 0.0244 - mean_absolute_error: 0.0756 - val_loss: 2.3509 - val_mean_absolute_error: 1.0171\n",
      "Epoch 115/300\n",
      "4/4 [==============================] - 29s 7s/step - loss: 0.0243 - mean_absolute_error: 0.0754 - val_loss: 2.2213 - val_mean_absolute_error: 0.9886\n",
      "Epoch 116/300\n",
      "4/4 [==============================] - 29s 7s/step - loss: 0.0243 - mean_absolute_error: 0.0755 - val_loss: 2.1731 - val_mean_absolute_error: 0.9783\n",
      "Epoch 117/300\n",
      "4/4 [==============================] - 29s 7s/step - loss: 0.0243 - mean_absolute_error: 0.0756 - val_loss: 2.1319 - val_mean_absolute_error: 0.9695\n",
      "Epoch 118/300\n",
      "4/4 [==============================] - 30s 7s/step - loss: 0.0242 - mean_absolute_error: 0.0755 - val_loss: 2.1069 - val_mean_absolute_error: 0.9645\n",
      "Epoch 119/300\n",
      "4/4 [==============================] - 30s 7s/step - loss: 0.0238 - mean_absolute_error: 0.0743 - val_loss: 2.1037 - val_mean_absolute_error: 0.9644\n",
      "Epoch 120/300\n",
      "4/4 [==============================] - 29s 7s/step - loss: 0.0238 - mean_absolute_error: 0.0742 - val_loss: 2.0537 - val_mean_absolute_error: 0.9532\n",
      "Epoch 121/300\n",
      "4/4 [==============================] - 29s 7s/step - loss: 0.0239 - mean_absolute_error: 0.0742 - val_loss: 1.9941 - val_mean_absolute_error: 0.9403\n",
      "Epoch 122/300\n",
      "4/4 [==============================] - 29s 7s/step - loss: 0.0235 - mean_absolute_error: 0.0728 - val_loss: 1.9465 - val_mean_absolute_error: 0.9293\n",
      "Epoch 123/300\n",
      "4/4 [==============================] - 29s 7s/step - loss: 0.0237 - mean_absolute_error: 0.0732 - val_loss: 1.9321 - val_mean_absolute_error: 0.9264\n",
      "Epoch 124/300\n",
      "4/4 [==============================] - 29s 7s/step - loss: 0.0237 - mean_absolute_error: 0.0730 - val_loss: 1.9066 - val_mean_absolute_error: 0.9221\n",
      "Epoch 125/300\n",
      "4/4 [==============================] - 30s 7s/step - loss: 0.0233 - mean_absolute_error: 0.0728 - val_loss: 1.8425 - val_mean_absolute_error: 0.9078\n",
      "Epoch 126/300\n",
      "4/4 [==============================] - 29s 7s/step - loss: 0.0232 - mean_absolute_error: 0.0721 - val_loss: 1.8322 - val_mean_absolute_error: 0.9061\n",
      "Epoch 127/300\n",
      "4/4 [==============================] - 29s 7s/step - loss: 0.0231 - mean_absolute_error: 0.0715 - val_loss: 1.8077 - val_mean_absolute_error: 0.9002\n",
      "Epoch 128/300\n",
      "4/4 [==============================] - 29s 7s/step - loss: 0.0231 - mean_absolute_error: 0.0711 - val_loss: 1.7519 - val_mean_absolute_error: 0.8877\n",
      "Epoch 129/300\n",
      "4/4 [==============================] - 29s 7s/step - loss: 0.0229 - mean_absolute_error: 0.0709 - val_loss: 1.6879 - val_mean_absolute_error: 0.8728\n",
      "Epoch 130/300\n",
      "4/4 [==============================] - 29s 7s/step - loss: 0.0230 - mean_absolute_error: 0.0713 - val_loss: 1.6662 - val_mean_absolute_error: 0.8670\n",
      "Epoch 131/300\n",
      "4/4 [==============================] - 31s 7s/step - loss: 0.0229 - mean_absolute_error: 0.0714 - val_loss: 1.6818 - val_mean_absolute_error: 0.8707\n",
      "Epoch 132/300\n",
      "4/4 [==============================] - 29s 7s/step - loss: 0.0228 - mean_absolute_error: 0.0714 - val_loss: 1.6740 - val_mean_absolute_error: 0.8680\n",
      "Epoch 133/300\n",
      "4/4 [==============================] - 29s 7s/step - loss: 0.0226 - mean_absolute_error: 0.0707 - val_loss: 1.6600 - val_mean_absolute_error: 0.8651\n",
      "Epoch 134/300\n",
      "4/4 [==============================] - 29s 7s/step - loss: 0.0225 - mean_absolute_error: 0.0703 - val_loss: 1.6214 - val_mean_absolute_error: 0.8568\n",
      "Epoch 135/300\n",
      "4/4 [==============================] - 29s 7s/step - loss: 0.0224 - mean_absolute_error: 0.0697 - val_loss: 1.5940 - val_mean_absolute_error: 0.8511\n",
      "Epoch 136/300\n",
      "4/4 [==============================] - 29s 7s/step - loss: 0.0224 - mean_absolute_error: 0.0692 - val_loss: 1.5475 - val_mean_absolute_error: 0.8401\n",
      "Epoch 137/300\n",
      "4/4 [==============================] - 29s 7s/step - loss: 0.0223 - mean_absolute_error: 0.0690 - val_loss: 1.4917 - val_mean_absolute_error: 0.8275\n",
      "Epoch 138/300\n",
      "4/4 [==============================] - 29s 7s/step - loss: 0.0223 - mean_absolute_error: 0.0690 - val_loss: 1.4720 - val_mean_absolute_error: 0.8231\n",
      "Epoch 139/300\n",
      "4/4 [==============================] - 31s 7s/step - loss: 0.0224 - mean_absolute_error: 0.0686 - val_loss: 1.4368 - val_mean_absolute_error: 0.8129\n",
      "Epoch 140/300\n",
      "4/4 [==============================] - 30s 7s/step - loss: 0.0228 - mean_absolute_error: 0.0698 - val_loss: 1.4356 - val_mean_absolute_error: 0.8119\n",
      "Epoch 141/300\n",
      "4/4 [==============================] - 30s 8s/step - loss: 0.0222 - mean_absolute_error: 0.0692 - val_loss: 1.4023 - val_mean_absolute_error: 0.8008\n",
      "Epoch 142/300\n",
      "4/4 [==============================] - 29s 7s/step - loss: 0.0221 - mean_absolute_error: 0.0685 - val_loss: 1.4025 - val_mean_absolute_error: 0.8021\n",
      "Epoch 143/300\n",
      "4/4 [==============================] - 29s 7s/step - loss: 0.0220 - mean_absolute_error: 0.0675 - val_loss: 1.3633 - val_mean_absolute_error: 0.7934\n",
      "Epoch 144/300\n",
      "4/4 [==============================] - 29s 7s/step - loss: 0.0220 - mean_absolute_error: 0.0678 - val_loss: 1.3404 - val_mean_absolute_error: 0.7898\n",
      "Epoch 145/300\n",
      "4/4 [==============================] - 29s 7s/step - loss: 0.0219 - mean_absolute_error: 0.0675 - val_loss: 1.3007 - val_mean_absolute_error: 0.7764\n",
      "Epoch 146/300\n",
      "4/4 [==============================] - 31s 7s/step - loss: 0.0218 - mean_absolute_error: 0.0675 - val_loss: 1.3097 - val_mean_absolute_error: 0.7798\n",
      "Epoch 147/300\n",
      "4/4 [==============================] - 29s 7s/step - loss: 0.0217 - mean_absolute_error: 0.0672 - val_loss: 1.3241 - val_mean_absolute_error: 0.7832\n",
      "Epoch 148/300\n",
      "4/4 [==============================] - 29s 7s/step - loss: 0.0216 - mean_absolute_error: 0.0674 - val_loss: 1.3187 - val_mean_absolute_error: 0.7807\n",
      "Epoch 149/300\n",
      "4/4 [==============================] - 29s 7s/step - loss: 0.0222 - mean_absolute_error: 0.0699 - val_loss: 1.3059 - val_mean_absolute_error: 0.7773\n",
      "Epoch 150/300\n",
      "4/4 [==============================] - 29s 7s/step - loss: 0.0218 - mean_absolute_error: 0.0687 - val_loss: 1.3131 - val_mean_absolute_error: 0.7782\n",
      "Epoch 151/300\n",
      "4/4 [==============================] - 29s 7s/step - loss: 0.0216 - mean_absolute_error: 0.0688 - val_loss: 1.3739 - val_mean_absolute_error: 0.7957\n",
      "Epoch 152/300\n",
      "4/4 [==============================] - 29s 7s/step - loss: 0.0214 - mean_absolute_error: 0.0683 - val_loss: 1.3569 - val_mean_absolute_error: 0.7927\n",
      "Epoch 153/300\n",
      "4/4 [==============================] - 31s 7s/step - loss: 0.0213 - mean_absolute_error: 0.0672 - val_loss: 1.2782 - val_mean_absolute_error: 0.7753\n",
      "Epoch 154/300\n",
      "4/4 [==============================] - 32s 8s/step - loss: 0.0215 - mean_absolute_error: 0.0676 - val_loss: 1.2417 - val_mean_absolute_error: 0.7698\n",
      "Epoch 155/300\n",
      "4/4 [==============================] - 29s 7s/step - loss: 0.0211 - mean_absolute_error: 0.0660 - val_loss: 1.2427 - val_mean_absolute_error: 0.7780\n",
      "Epoch 156/300\n",
      "4/4 [==============================] - 30s 7s/step - loss: 0.0211 - mean_absolute_error: 0.0659 - val_loss: 1.2142 - val_mean_absolute_error: 0.7723\n",
      "Epoch 157/300\n",
      "4/4 [==============================] - 29s 7s/step - loss: 0.0210 - mean_absolute_error: 0.0653 - val_loss: 1.1762 - val_mean_absolute_error: 0.7611\n",
      "Epoch 158/300\n",
      "4/4 [==============================] - 29s 7s/step - loss: 0.0211 - mean_absolute_error: 0.0656 - val_loss: 1.1628 - val_mean_absolute_error: 0.7561\n",
      "Epoch 159/300\n",
      "4/4 [==============================] - 29s 7s/step - loss: 0.0210 - mean_absolute_error: 0.0654 - val_loss: 1.1645 - val_mean_absolute_error: 0.7577\n",
      "Epoch 160/300\n",
      "4/4 [==============================] - 29s 7s/step - loss: 0.0212 - mean_absolute_error: 0.0656 - val_loss: 1.1467 - val_mean_absolute_error: 0.7552\n",
      "Epoch 161/300\n",
      "4/4 [==============================] - 30s 7s/step - loss: 0.0209 - mean_absolute_error: 0.0646 - val_loss: 1.1278 - val_mean_absolute_error: 0.7521\n",
      "Epoch 162/300\n",
      "4/4 [==============================] - 29s 7s/step - loss: 0.0209 - mean_absolute_error: 0.0657 - val_loss: 1.1321 - val_mean_absolute_error: 0.7547\n",
      "Epoch 163/300\n",
      "4/4 [==============================] - 29s 7s/step - loss: 0.0210 - mean_absolute_error: 0.0655 - val_loss: 1.1077 - val_mean_absolute_error: 0.7400\n",
      "Epoch 164/300\n",
      "4/4 [==============================] - 29s 7s/step - loss: 0.0206 - mean_absolute_error: 0.0654 - val_loss: 1.1334 - val_mean_absolute_error: 0.7447\n",
      "Epoch 165/300\n",
      "4/4 [==============================] - 29s 7s/step - loss: 0.0210 - mean_absolute_error: 0.0665 - val_loss: 1.1798 - val_mean_absolute_error: 0.7651\n",
      "Epoch 166/300\n",
      "4/4 [==============================] - 29s 7s/step - loss: 0.0208 - mean_absolute_error: 0.0666 - val_loss: 1.1658 - val_mean_absolute_error: 0.7682\n",
      "Epoch 167/300\n",
      "4/4 [==============================] - 32s 8s/step - loss: 0.0208 - mean_absolute_error: 0.0651 - val_loss: 1.1077 - val_mean_absolute_error: 0.7484\n",
      "Epoch 168/300\n",
      "4/4 [==============================] - 29s 7s/step - loss: 0.0210 - mean_absolute_error: 0.0671 - val_loss: 1.1219 - val_mean_absolute_error: 0.7519\n",
      "Epoch 169/300\n",
      "4/4 [==============================] - 29s 7s/step - loss: 0.0205 - mean_absolute_error: 0.0647 - val_loss: 1.1817 - val_mean_absolute_error: 0.7754\n",
      "Epoch 170/300\n",
      "4/4 [==============================] - 29s 7s/step - loss: 0.0206 - mean_absolute_error: 0.0663 - val_loss: 1.1225 - val_mean_absolute_error: 0.7545\n",
      "Epoch 171/300\n",
      "4/4 [==============================] - 29s 7s/step - loss: 0.0203 - mean_absolute_error: 0.0641 - val_loss: 1.0638 - val_mean_absolute_error: 0.7326\n",
      "Epoch 172/300\n",
      "4/4 [==============================] - 29s 7s/step - loss: 0.0204 - mean_absolute_error: 0.0646 - val_loss: 1.0783 - val_mean_absolute_error: 0.7387\n",
      "Epoch 173/300\n",
      "4/4 [==============================] - 31s 7s/step - loss: 0.0201 - mean_absolute_error: 0.0636 - val_loss: 1.0657 - val_mean_absolute_error: 0.7325\n",
      "Epoch 174/300\n",
      "4/4 [==============================] - 29s 7s/step - loss: 0.0203 - mean_absolute_error: 0.0650 - val_loss: 1.0423 - val_mean_absolute_error: 0.7219\n",
      "Epoch 175/300\n",
      "4/4 [==============================] - 29s 7s/step - loss: 0.0201 - mean_absolute_error: 0.0645 - val_loss: 1.0329 - val_mean_absolute_error: 0.7211\n",
      "Epoch 176/300\n",
      "4/4 [==============================] - 29s 7s/step - loss: 0.0200 - mean_absolute_error: 0.0638 - val_loss: 1.0328 - val_mean_absolute_error: 0.7229\n",
      "Epoch 177/300\n",
      "4/4 [==============================] - 29s 7s/step - loss: 0.0199 - mean_absolute_error: 0.0634 - val_loss: 1.0347 - val_mean_absolute_error: 0.7246\n",
      "Epoch 178/300\n",
      "4/4 [==============================] - 29s 7s/step - loss: 0.0202 - mean_absolute_error: 0.0640 - val_loss: 1.0486 - val_mean_absolute_error: 0.7290\n",
      "Epoch 179/300\n",
      "4/4 [==============================] - 31s 7s/step - loss: 0.0204 - mean_absolute_error: 0.0647 - val_loss: 1.0357 - val_mean_absolute_error: 0.7182\n",
      "Epoch 180/300\n",
      "4/4 [==============================] - 29s 7s/step - loss: 0.0198 - mean_absolute_error: 0.0650 - val_loss: 1.0338 - val_mean_absolute_error: 0.7131\n",
      "Epoch 181/300\n",
      "4/4 [==============================] - 29s 7s/step - loss: 0.0202 - mean_absolute_error: 0.0673 - val_loss: 1.0629 - val_mean_absolute_error: 0.7262\n",
      "Epoch 182/300\n",
      "4/4 [==============================] - 29s 7s/step - loss: 0.0199 - mean_absolute_error: 0.0652 - val_loss: 1.0602 - val_mean_absolute_error: 0.7302\n",
      "Epoch 183/300\n",
      "4/4 [==============================] - 29s 7s/step - loss: 0.0197 - mean_absolute_error: 0.0637 - val_loss: 1.0243 - val_mean_absolute_error: 0.7194\n",
      "Epoch 184/300\n",
      "4/4 [==============================] - 29s 7s/step - loss: 0.0198 - mean_absolute_error: 0.0651 - val_loss: 1.0254 - val_mean_absolute_error: 0.7191\n",
      "Epoch 185/300\n",
      "4/4 [==============================] - 29s 7s/step - loss: 0.0196 - mean_absolute_error: 0.0637 - val_loss: 1.0777 - val_mean_absolute_error: 0.7408\n",
      "Epoch 186/300\n",
      "4/4 [==============================] - 30s 7s/step - loss: 0.0198 - mean_absolute_error: 0.0647 - val_loss: 1.0402 - val_mean_absolute_error: 0.7241\n",
      "Epoch 187/300\n",
      "4/4 [==============================] - 29s 7s/step - loss: 0.0200 - mean_absolute_error: 0.0646 - val_loss: 1.0144 - val_mean_absolute_error: 0.7106\n",
      "Epoch 188/300\n",
      "4/4 [==============================] - 29s 7s/step - loss: 0.0199 - mean_absolute_error: 0.0652 - val_loss: 1.0460 - val_mean_absolute_error: 0.7261\n",
      "Epoch 189/300\n",
      "4/4 [==============================] - 29s 7s/step - loss: 0.0196 - mean_absolute_error: 0.0638 - val_loss: 0.9924 - val_mean_absolute_error: 0.7048\n",
      "Epoch 190/300\n",
      "4/4 [==============================] - 29s 7s/step - loss: 0.0194 - mean_absolute_error: 0.0629 - val_loss: 0.9810 - val_mean_absolute_error: 0.7001\n",
      "Epoch 191/300\n",
      "4/4 [==============================] - 31s 7s/step - loss: 0.0193 - mean_absolute_error: 0.0628 - val_loss: 0.9796 - val_mean_absolute_error: 0.7006\n",
      "Epoch 192/300\n",
      "4/4 [==============================] - 29s 7s/step - loss: 0.0194 - mean_absolute_error: 0.0631 - val_loss: 0.9598 - val_mean_absolute_error: 0.6943\n",
      "Epoch 193/300\n",
      "4/4 [==============================] - 29s 7s/step - loss: 0.0192 - mean_absolute_error: 0.0623 - val_loss: 0.9350 - val_mean_absolute_error: 0.6824\n",
      "Epoch 194/300\n",
      "4/4 [==============================] - 29s 7s/step - loss: 0.0194 - mean_absolute_error: 0.0630 - val_loss: 0.9335 - val_mean_absolute_error: 0.6771\n",
      "Epoch 195/300\n",
      "4/4 [==============================] - 29s 7s/step - loss: 0.0192 - mean_absolute_error: 0.0626 - val_loss: 0.9660 - val_mean_absolute_error: 0.6882\n",
      "Epoch 196/300\n",
      "4/4 [==============================] - 29s 7s/step - loss: 0.0194 - mean_absolute_error: 0.0643 - val_loss: 0.9567 - val_mean_absolute_error: 0.6816\n",
      "Epoch 197/300\n",
      "4/4 [==============================] - 29s 7s/step - loss: 0.0193 - mean_absolute_error: 0.0638 - val_loss: 0.9377 - val_mean_absolute_error: 0.6747\n",
      "Epoch 198/300\n",
      "4/4 [==============================] - 31s 7s/step - loss: 0.0192 - mean_absolute_error: 0.0643 - val_loss: 0.9663 - val_mean_absolute_error: 0.6941\n",
      "Epoch 199/300\n",
      "4/4 [==============================] - 31s 7s/step - loss: 0.0198 - mean_absolute_error: 0.0654 - val_loss: 0.9732 - val_mean_absolute_error: 0.7006\n",
      "Epoch 200/300\n",
      "4/4 [==============================] - 30s 7s/step - loss: 0.0197 - mean_absolute_error: 0.0647 - val_loss: 0.9482 - val_mean_absolute_error: 0.6876\n",
      "Epoch 201/300\n",
      "4/4 [==============================] - 30s 7s/step - loss: 0.0191 - mean_absolute_error: 0.0629 - val_loss: 0.9910 - val_mean_absolute_error: 0.7050\n",
      "Epoch 202/300\n",
      "4/4 [==============================] - 31s 8s/step - loss: 0.0190 - mean_absolute_error: 0.0634 - val_loss: 0.9716 - val_mean_absolute_error: 0.6953\n",
      "Epoch 203/300\n",
      "4/4 [==============================] - 29s 7s/step - loss: 0.0190 - mean_absolute_error: 0.0638 - val_loss: 0.9348 - val_mean_absolute_error: 0.6802\n",
      "Epoch 204/300\n",
      "4/4 [==============================] - 29s 7s/step - loss: 0.0189 - mean_absolute_error: 0.0630 - val_loss: 0.9430 - val_mean_absolute_error: 0.6861\n",
      "Epoch 205/300\n",
      "4/4 [==============================] - 29s 7s/step - loss: 0.0191 - mean_absolute_error: 0.0628 - val_loss: 0.9196 - val_mean_absolute_error: 0.6743\n",
      "Epoch 206/300\n",
      "4/4 [==============================] - 30s 7s/step - loss: 0.0189 - mean_absolute_error: 0.0631 - val_loss: 0.9037 - val_mean_absolute_error: 0.6634\n",
      "Epoch 207/300\n",
      "4/4 [==============================] - 29s 7s/step - loss: 0.0189 - mean_absolute_error: 0.0636 - val_loss: 0.9244 - val_mean_absolute_error: 0.6731\n",
      "Epoch 208/300\n",
      "4/4 [==============================] - 29s 7s/step - loss: 0.0187 - mean_absolute_error: 0.0630 - val_loss: 0.9168 - val_mean_absolute_error: 0.6737\n",
      "Epoch 209/300\n",
      "4/4 [==============================] - 31s 7s/step - loss: 0.0186 - mean_absolute_error: 0.0623 - val_loss: 0.8821 - val_mean_absolute_error: 0.6599\n",
      "Epoch 210/300\n",
      "4/4 [==============================] - 32s 7s/step - loss: 0.0187 - mean_absolute_error: 0.0623 - val_loss: 0.9003 - val_mean_absolute_error: 0.6700\n",
      "Epoch 211/300\n",
      "4/4 [==============================] - 33s 8s/step - loss: 0.0188 - mean_absolute_error: 0.0620 - val_loss: 0.9118 - val_mean_absolute_error: 0.6762\n",
      "Epoch 212/300\n",
      "4/4 [==============================] - 33s 8s/step - loss: 0.0187 - mean_absolute_error: 0.0619 - val_loss: 0.9173 - val_mean_absolute_error: 0.6786\n",
      "Epoch 213/300\n",
      "4/4 [==============================] - 31s 7s/step - loss: 0.0187 - mean_absolute_error: 0.0622 - val_loss: 0.9365 - val_mean_absolute_error: 0.6874\n",
      "Epoch 214/300\n",
      "4/4 [==============================] - 29s 7s/step - loss: 0.0188 - mean_absolute_error: 0.0620 - val_loss: 0.9152 - val_mean_absolute_error: 0.6755\n",
      "Epoch 215/300\n",
      "4/4 [==============================] - 34s 8s/step - loss: 0.0184 - mean_absolute_error: 0.0611 - val_loss: 0.9672 - val_mean_absolute_error: 0.6987\n",
      "Epoch 216/300\n",
      "4/4 [==============================] - 32s 8s/step - loss: 0.0187 - mean_absolute_error: 0.0622 - val_loss: 0.9535 - val_mean_absolute_error: 0.6911\n",
      "Epoch 217/300\n",
      "4/4 [==============================] - 34s 8s/step - loss: 0.0187 - mean_absolute_error: 0.0614 - val_loss: 0.9387 - val_mean_absolute_error: 0.6829\n",
      "Epoch 218/300\n",
      "4/4 [==============================] - 30s 7s/step - loss: 0.0185 - mean_absolute_error: 0.0619 - val_loss: 0.9739 - val_mean_absolute_error: 0.6996\n",
      "Epoch 219/300\n",
      "4/4 [==============================] - 29s 7s/step - loss: 0.0183 - mean_absolute_error: 0.0618 - val_loss: 0.9882 - val_mean_absolute_error: 0.7063\n",
      "Epoch 220/300\n",
      "4/4 [==============================] - 29s 7s/step - loss: 0.0190 - mean_absolute_error: 0.0622 - val_loss: 0.9602 - val_mean_absolute_error: 0.6926\n",
      "Epoch 221/300\n",
      "4/4 [==============================] - 30s 7s/step - loss: 0.0188 - mean_absolute_error: 0.0643 - val_loss: 0.9546 - val_mean_absolute_error: 0.6883\n",
      "Epoch 222/300\n",
      "4/4 [==============================] - 30s 7s/step - loss: 0.0189 - mean_absolute_error: 0.0652 - val_loss: 1.0215 - val_mean_absolute_error: 0.7191\n",
      "Epoch 223/300\n",
      "4/4 [==============================] - 30s 7s/step - loss: 0.0183 - mean_absolute_error: 0.0631 - val_loss: 0.9931 - val_mean_absolute_error: 0.7061\n",
      "Epoch 224/300\n",
      "4/4 [==============================] - 29s 7s/step - loss: 0.0184 - mean_absolute_error: 0.0627 - val_loss: 1.0032 - val_mean_absolute_error: 0.7116\n",
      "Epoch 225/300\n",
      "4/4 [==============================] - 30s 7s/step - loss: 0.0182 - mean_absolute_error: 0.0611 - val_loss: 1.0207 - val_mean_absolute_error: 0.7196\n",
      "Epoch 226/300\n",
      "4/4 [==============================] - 30s 7s/step - loss: 0.0182 - mean_absolute_error: 0.0615 - val_loss: 1.0056 - val_mean_absolute_error: 0.7116\n",
      "Epoch 227/300\n",
      "4/4 [==============================] - 29s 7s/step - loss: 0.0182 - mean_absolute_error: 0.0616 - val_loss: 0.9884 - val_mean_absolute_error: 0.7032\n",
      "Epoch 228/300\n",
      "4/4 [==============================] - 32s 7s/step - loss: 0.0181 - mean_absolute_error: 0.0610 - val_loss: 1.0040 - val_mean_absolute_error: 0.7109\n",
      "Epoch 229/300\n",
      "4/4 [==============================] - 31s 8s/step - loss: 0.0181 - mean_absolute_error: 0.0605 - val_loss: 0.9955 - val_mean_absolute_error: 0.7062\n",
      "Epoch 230/300\n",
      "4/4 [==============================] - 29s 7s/step - loss: 0.0181 - mean_absolute_error: 0.0602 - val_loss: 0.9677 - val_mean_absolute_error: 0.6912\n",
      "Epoch 231/300\n",
      "4/4 [==============================] - 29s 7s/step - loss: 0.0182 - mean_absolute_error: 0.0618 - val_loss: 0.9404 - val_mean_absolute_error: 0.6772\n",
      "Epoch 232/300\n",
      "4/4 [==============================] - 29s 7s/step - loss: 0.0184 - mean_absolute_error: 0.0625 - val_loss: 0.9948 - val_mean_absolute_error: 0.7038\n",
      "Epoch 233/300\n",
      "4/4 [==============================] - 29s 7s/step - loss: 0.0183 - mean_absolute_error: 0.0614 - val_loss: 0.9805 - val_mean_absolute_error: 0.6929\n",
      "Epoch 234/300\n",
      "4/4 [==============================] - 31s 7s/step - loss: 0.0187 - mean_absolute_error: 0.0639 - val_loss: 0.9636 - val_mean_absolute_error: 0.6846\n",
      "Epoch 235/300\n",
      "4/4 [==============================] - 29s 7s/step - loss: 0.0181 - mean_absolute_error: 0.0614 - val_loss: 1.0122 - val_mean_absolute_error: 0.7087\n",
      "Epoch 236/300\n",
      "4/4 [==============================] - 30s 7s/step - loss: 0.0182 - mean_absolute_error: 0.0625 - val_loss: 0.9622 - val_mean_absolute_error: 0.6827\n",
      "Epoch 237/300\n",
      "4/4 [==============================] - 30s 7s/step - loss: 0.0182 - mean_absolute_error: 0.0599 - val_loss: 0.9558 - val_mean_absolute_error: 0.6783\n",
      "Epoch 238/300\n",
      "4/4 [==============================] - 30s 7s/step - loss: 0.0180 - mean_absolute_error: 0.0603 - val_loss: 0.9733 - val_mean_absolute_error: 0.6862\n",
      "Epoch 239/300\n",
      "4/4 [==============================] - 31s 7s/step - loss: 0.0179 - mean_absolute_error: 0.0613 - val_loss: 0.9872 - val_mean_absolute_error: 0.6922\n",
      "Epoch 240/300\n",
      "4/4 [==============================] - 30s 7s/step - loss: 0.0178 - mean_absolute_error: 0.0605 - val_loss: 0.9635 - val_mean_absolute_error: 0.6802\n",
      "Epoch 241/300\n",
      "4/4 [==============================] - 29s 7s/step - loss: 0.0179 - mean_absolute_error: 0.0602 - val_loss: 0.9928 - val_mean_absolute_error: 0.6935\n",
      "Epoch 242/300\n",
      "4/4 [==============================] - 29s 7s/step - loss: 0.0179 - mean_absolute_error: 0.0601 - val_loss: 1.0099 - val_mean_absolute_error: 0.7015\n",
      "Epoch 243/300\n",
      "4/4 [==============================] - 29s 7s/step - loss: 0.0186 - mean_absolute_error: 0.0626 - val_loss: 0.9797 - val_mean_absolute_error: 0.6864\n",
      "Epoch 244/300\n",
      "4/4 [==============================] - 29s 7s/step - loss: 0.0175 - mean_absolute_error: 0.0592 - val_loss: 1.0276 - val_mean_absolute_error: 0.7077\n",
      "Epoch 245/300\n",
      "4/4 [==============================] - 31s 7s/step - loss: 0.0187 - mean_absolute_error: 0.0620 - val_loss: 0.9651 - val_mean_absolute_error: 0.6758\n",
      "Epoch 246/300\n",
      "4/4 [==============================] - 30s 7s/step - loss: 0.0174 - mean_absolute_error: 0.0604 - val_loss: 0.9270 - val_mean_absolute_error: 0.6596\n",
      "Epoch 247/300\n",
      "4/4 [==============================] - 30s 7s/step - loss: 0.0191 - mean_absolute_error: 0.0664 - val_loss: 0.9776 - val_mean_absolute_error: 0.6843\n",
      "Epoch 248/300\n",
      "4/4 [==============================] - 30s 7s/step - loss: 0.0180 - mean_absolute_error: 0.0624 - val_loss: 0.9879 - val_mean_absolute_error: 0.6821\n",
      "Epoch 249/300\n",
      "4/4 [==============================] - 29s 7s/step - loss: 0.0190 - mean_absolute_error: 0.0621 - val_loss: 0.9587 - val_mean_absolute_error: 0.6672\n",
      "Epoch 250/300\n",
      "4/4 [==============================] - 31s 7s/step - loss: 0.0175 - mean_absolute_error: 0.0606 - val_loss: 0.9173 - val_mean_absolute_error: 0.6539\n",
      "Epoch 251/300\n",
      "4/4 [==============================] - 31s 7s/step - loss: 0.0188 - mean_absolute_error: 0.0643 - val_loss: 0.9559 - val_mean_absolute_error: 0.6720\n",
      "Epoch 252/300\n",
      "4/4 [==============================] - 31s 7s/step - loss: 0.0184 - mean_absolute_error: 0.0630 - val_loss: 0.9426 - val_mean_absolute_error: 0.6637\n",
      "Epoch 253/300\n",
      "4/4 [==============================] - 31s 7s/step - loss: 0.0181 - mean_absolute_error: 0.0623 - val_loss: 0.8945 - val_mean_absolute_error: 0.6402\n",
      "Epoch 254/300\n",
      "4/4 [==============================] - 30s 7s/step - loss: 0.0178 - mean_absolute_error: 0.0611 - val_loss: 0.9512 - val_mean_absolute_error: 0.6696\n",
      "Epoch 255/300\n",
      "4/4 [==============================] - 31s 7s/step - loss: 0.0177 - mean_absolute_error: 0.0621 - val_loss: 0.9427 - val_mean_absolute_error: 0.6647\n",
      "Epoch 256/300\n",
      "4/4 [==============================] - 31s 7s/step - loss: 0.0176 - mean_absolute_error: 0.0593 - val_loss: 0.9359 - val_mean_absolute_error: 0.6597\n",
      "Epoch 257/300\n",
      "4/4 [==============================] - 29s 7s/step - loss: 0.0175 - mean_absolute_error: 0.0584 - val_loss: 0.9774 - val_mean_absolute_error: 0.6792\n",
      "Epoch 258/300\n",
      "4/4 [==============================] - 29s 7s/step - loss: 0.0175 - mean_absolute_error: 0.0582 - val_loss: 0.9604 - val_mean_absolute_error: 0.6700\n",
      "Epoch 259/300\n",
      "4/4 [==============================] - 29s 7s/step - loss: 0.0179 - mean_absolute_error: 0.0598 - val_loss: 0.9588 - val_mean_absolute_error: 0.6693\n",
      "Epoch 260/300\n",
      "4/4 [==============================] - 29s 7s/step - loss: 0.0177 - mean_absolute_error: 0.0601 - val_loss: 0.9865 - val_mean_absolute_error: 0.6806\n",
      "Epoch 261/300\n",
      "4/4 [==============================] - 33s 7s/step - loss: 0.0176 - mean_absolute_error: 0.0589 - val_loss: 0.9323 - val_mean_absolute_error: 0.6540\n",
      "Epoch 262/300\n",
      "4/4 [==============================] - 29s 7s/step - loss: 0.0177 - mean_absolute_error: 0.0615 - val_loss: 0.9400 - val_mean_absolute_error: 0.6593\n",
      "Epoch 263/300\n",
      "4/4 [==============================] - 30s 7s/step - loss: 0.0179 - mean_absolute_error: 0.0630 - val_loss: 0.9586 - val_mean_absolute_error: 0.6684\n",
      "Epoch 264/300\n",
      "4/4 [==============================] - 30s 7s/step - loss: 0.0176 - mean_absolute_error: 0.0619 - val_loss: 0.9164 - val_mean_absolute_error: 0.6472\n",
      "Epoch 265/300\n",
      "4/4 [==============================] - 29s 7s/step - loss: 0.0172 - mean_absolute_error: 0.0595 - val_loss: 0.9882 - val_mean_absolute_error: 0.6821\n",
      "Epoch 266/300\n",
      "4/4 [==============================] - 31s 8s/step - loss: 0.0183 - mean_absolute_error: 0.0639 - val_loss: 0.9836 - val_mean_absolute_error: 0.6787\n",
      "Epoch 267/300\n",
      "4/4 [==============================] - 30s 7s/step - loss: 0.0173 - mean_absolute_error: 0.0586 - val_loss: 0.9399 - val_mean_absolute_error: 0.6576\n",
      "Epoch 268/300\n",
      "4/4 [==============================] - 30s 7s/step - loss: 0.0177 - mean_absolute_error: 0.0625 - val_loss: 0.9695 - val_mean_absolute_error: 0.6733\n",
      "Epoch 269/300\n",
      "4/4 [==============================] - 29s 7s/step - loss: 0.0173 - mean_absolute_error: 0.0617 - val_loss: 1.0052 - val_mean_absolute_error: 0.6885\n",
      "Epoch 270/300\n",
      "4/4 [==============================] - 29s 7s/step - loss: 0.0175 - mean_absolute_error: 0.0594 - val_loss: 0.9512 - val_mean_absolute_error: 0.6602\n",
      "Epoch 271/300\n",
      "4/4 [==============================] - 30s 7s/step - loss: 0.0174 - mean_absolute_error: 0.0618 - val_loss: 0.9788 - val_mean_absolute_error: 0.6741\n",
      "Epoch 272/300\n",
      "4/4 [==============================] - 34s 8s/step - loss: 0.0173 - mean_absolute_error: 0.0605 - val_loss: 1.0138 - val_mean_absolute_error: 0.6905\n",
      "Epoch 273/300\n",
      "4/4 [==============================] - 29s 7s/step - loss: 0.0174 - mean_absolute_error: 0.0615 - val_loss: 0.9956 - val_mean_absolute_error: 0.6770\n",
      "Epoch 274/300\n",
      "4/4 [==============================] - 29s 7s/step - loss: 0.0177 - mean_absolute_error: 0.0631 - val_loss: 1.0025 - val_mean_absolute_error: 0.6786\n",
      "Epoch 275/300\n",
      "4/4 [==============================] - 29s 7s/step - loss: 0.0178 - mean_absolute_error: 0.0618 - val_loss: 1.0652 - val_mean_absolute_error: 0.7074\n",
      "Epoch 276/300\n",
      "4/4 [==============================] - 29s 7s/step - loss: 0.0174 - mean_absolute_error: 0.0612 - val_loss: 0.9912 - val_mean_absolute_error: 0.6669\n",
      "Epoch 277/300\n",
      "4/4 [==============================] - 29s 7s/step - loss: 0.0174 - mean_absolute_error: 0.0617 - val_loss: 1.0383 - val_mean_absolute_error: 0.6880\n",
      "Epoch 278/300\n",
      "4/4 [==============================] - 31s 7s/step - loss: 0.0182 - mean_absolute_error: 0.0642 - val_loss: 1.0957 - val_mean_absolute_error: 0.7114\n",
      "Epoch 279/300\n",
      "4/4 [==============================] - 29s 7s/step - loss: 0.0187 - mean_absolute_error: 0.0639 - val_loss: 1.0485 - val_mean_absolute_error: 0.6877\n",
      "Epoch 280/300\n",
      "4/4 [==============================] - 29s 7s/step - loss: 0.0171 - mean_absolute_error: 0.0600 - val_loss: 1.1458 - val_mean_absolute_error: 0.7320\n",
      "Epoch 281/300\n",
      "4/4 [==============================] - 29s 7s/step - loss: 0.0184 - mean_absolute_error: 0.0646 - val_loss: 1.0576 - val_mean_absolute_error: 0.6884\n",
      "Epoch 282/300\n",
      "4/4 [==============================] - 29s 7s/step - loss: 0.0173 - mean_absolute_error: 0.0621 - val_loss: 0.9951 - val_mean_absolute_error: 0.6668\n",
      "Epoch 283/300\n",
      "4/4 [==============================] - 33s 8s/step - loss: 0.0176 - mean_absolute_error: 0.0625 - val_loss: 1.0426 - val_mean_absolute_error: 0.6916\n",
      "Epoch 284/300\n",
      "4/4 [==============================] - 29s 7s/step - loss: 0.0172 - mean_absolute_error: 0.0619 - val_loss: 0.9871 - val_mean_absolute_error: 0.6623\n",
      "Epoch 285/300\n",
      "4/4 [==============================] - 30s 7s/step - loss: 0.0171 - mean_absolute_error: 0.0588 - val_loss: 0.9905 - val_mean_absolute_error: 0.6633\n",
      "Epoch 286/300\n",
      "4/4 [==============================] - 29s 7s/step - loss: 0.0171 - mean_absolute_error: 0.0586 - val_loss: 0.9973 - val_mean_absolute_error: 0.6683\n",
      "Epoch 287/300\n",
      "4/4 [==============================] - 29s 7s/step - loss: 0.0169 - mean_absolute_error: 0.0591 - val_loss: 0.9915 - val_mean_absolute_error: 0.6661\n",
      "Epoch 288/300\n",
      "4/4 [==============================] - 30s 7s/step - loss: 0.0169 - mean_absolute_error: 0.0598 - val_loss: 0.9792 - val_mean_absolute_error: 0.6606\n",
      "Epoch 289/300\n",
      "4/4 [==============================] - 29s 7s/step - loss: 0.0169 - mean_absolute_error: 0.0593 - val_loss: 1.0109 - val_mean_absolute_error: 0.6767\n",
      "Epoch 290/300\n",
      "4/4 [==============================] - 29s 7s/step - loss: 0.0176 - mean_absolute_error: 0.0620 - val_loss: 1.0013 - val_mean_absolute_error: 0.6692\n",
      "Epoch 291/300\n",
      "4/4 [==============================] - 29s 7s/step - loss: 0.0175 - mean_absolute_error: 0.0623 - val_loss: 0.9844 - val_mean_absolute_error: 0.6609\n",
      "Epoch 292/300\n",
      "4/4 [==============================] - 29s 7s/step - loss: 0.0172 - mean_absolute_error: 0.0606 - val_loss: 1.0530 - val_mean_absolute_error: 0.6946\n",
      "Epoch 293/300\n",
      "4/4 [==============================] - 30s 7s/step - loss: 0.0170 - mean_absolute_error: 0.0614 - val_loss: 1.0223 - val_mean_absolute_error: 0.6725\n",
      "Epoch 294/300\n",
      "4/4 [==============================] - 29s 7s/step - loss: 0.0170 - mean_absolute_error: 0.0588 - val_loss: 0.9954 - val_mean_absolute_error: 0.6585\n",
      "Epoch 295/300\n",
      "4/4 [==============================] - 29s 7s/step - loss: 0.0169 - mean_absolute_error: 0.0581 - val_loss: 0.9988 - val_mean_absolute_error: 0.6637\n",
      "Epoch 296/300\n",
      "4/4 [==============================] - 29s 7s/step - loss: 0.0167 - mean_absolute_error: 0.0580 - val_loss: 0.9777 - val_mean_absolute_error: 0.6539\n",
      "Epoch 297/300\n",
      "4/4 [==============================] - 29s 7s/step - loss: 0.0169 - mean_absolute_error: 0.0577 - val_loss: 0.9944 - val_mean_absolute_error: 0.6594\n",
      "Epoch 298/300\n",
      "4/4 [==============================] - 33s 8s/step - loss: 0.0168 - mean_absolute_error: 0.0576 - val_loss: 1.0147 - val_mean_absolute_error: 0.6686\n",
      "Epoch 299/300\n",
      "4/4 [==============================] - 29s 7s/step - loss: 0.0172 - mean_absolute_error: 0.0597 - val_loss: 1.0287 - val_mean_absolute_error: 0.6757\n",
      "Epoch 300/300\n",
      "4/4 [==============================] - 31s 7s/step - loss: 0.0166 - mean_absolute_error: 0.0569 - val_loss: 0.9776 - val_mean_absolute_error: 0.6518\n",
      "CPU times: user 3h 24min 55s, sys: 44min 9s, total: 4h 9min 5s\n",
      "Wall time: 3h 8min 31s\n"
     ]
    }
   ],
   "source": [
    "%%time\n",
    "residual_lstm = tf.keras.Sequential([\n",
    "    #tf.keras.layers.LSTM(32),\n",
    "    tf.keras.layers.Conv2D(filters=2048, kernel_size=(3, 3), padding='same'),\n",
    "    tf.keras.layers.Conv2D(filters=1024, kernel_size=(3, 3), padding='same'),\n",
    "    tf.keras.layers.Conv2D(filters=1024, kernel_size=(2, 2), padding='same'),\n",
    "    tf.keras.layers.Conv2D(filters=512, kernel_size=(2, 2), padding='same'),\n",
    "    tf.keras.layers.Dense(512),\n",
    "    tf.keras.layers.Dense(512),\n",
    "    tf.keras.layers.Flatten(),\n",
    "    tf.keras.layers.Dense(\n",
    "        NB_LABEL_FEATURES,\n",
    "        # The predicted deltas should start small.\n",
    "        # Therefore, initialize the output layer with zeros.\n",
    "        kernel_initializer=tf.initializers.zeros())\n",
    "])\n",
    "\n",
    "history = compile_and_fit(residual_lstm, wide_window)"
   ]
  },
  {
   "cell_type": "code",
   "execution_count": 1,
   "id": "9b3127c0-c819-4df9-a826-e9ad7198cb9a",
   "metadata": {
    "colab": {
     "base_uri": "https://localhost:8080/",
     "height": 207
    },
    "executionInfo": {
     "elapsed": 16,
     "status": "error",
     "timestamp": 1710445193801,
     "user": {
      "displayName": "Junwoo Park",
      "userId": "13503732136792353719"
     },
     "user_tz": -60
    },
    "id": "9b3127c0-c819-4df9-a826-e9ad7198cb9a",
    "outputId": "2566a533-3649-4384-ad17-fcfabd0dde91"
   },
   "outputs": [
    {
     "ename": "NameError",
     "evalue": "name 'IPython' is not defined",
     "output_type": "error",
     "traceback": [
      "\u001b[0;31m---------------------------------------------------------------------------\u001b[0m",
      "\u001b[0;31mNameError\u001b[0m                                 Traceback (most recent call last)",
      "\u001b[0;32m<ipython-input-1-d2e492d12312>\u001b[0m in \u001b[0;36m<cell line: 1>\u001b[0;34m()\u001b[0m\n\u001b[0;32m----> 1\u001b[0;31m \u001b[0mIPython\u001b[0m\u001b[0;34m.\u001b[0m\u001b[0mdisplay\u001b[0m\u001b[0;34m.\u001b[0m\u001b[0mclear_output\u001b[0m\u001b[0;34m(\u001b[0m\u001b[0;34m)\u001b[0m\u001b[0;34m\u001b[0m\u001b[0;34m\u001b[0m\u001b[0m\n\u001b[0m\u001b[1;32m      2\u001b[0m \u001b[0mval_performance\u001b[0m \u001b[0;34m=\u001b[0m \u001b[0;34m{\u001b[0m\u001b[0;34m}\u001b[0m\u001b[0;34m\u001b[0m\u001b[0;34m\u001b[0m\u001b[0m\n\u001b[1;32m      3\u001b[0m \u001b[0mperformance\u001b[0m \u001b[0;34m=\u001b[0m \u001b[0;34m{\u001b[0m\u001b[0;34m}\u001b[0m\u001b[0;34m\u001b[0m\u001b[0;34m\u001b[0m\u001b[0m\n\u001b[1;32m      4\u001b[0m \u001b[0mval_performance\u001b[0m\u001b[0;34m[\u001b[0m\u001b[0;34m'Residual LSTM'\u001b[0m\u001b[0;34m]\u001b[0m \u001b[0;34m=\u001b[0m \u001b[0mresidual_lstm\u001b[0m\u001b[0;34m.\u001b[0m\u001b[0mevaluate\u001b[0m\u001b[0;34m(\u001b[0m\u001b[0mwide_window\u001b[0m\u001b[0;34m.\u001b[0m\u001b[0mval\u001b[0m\u001b[0;34m,\u001b[0m \u001b[0mreturn_dict\u001b[0m\u001b[0;34m=\u001b[0m\u001b[0;32mTrue\u001b[0m\u001b[0;34m)\u001b[0m\u001b[0;34m\u001b[0m\u001b[0;34m\u001b[0m\u001b[0m\n\u001b[1;32m      5\u001b[0m \u001b[0;31m#performance['Residual LSTM'] = residual_lstm.evaluate(wide_window.test, verbose=0, return_dict=True)\u001b[0m\u001b[0;34m\u001b[0m\u001b[0;34m\u001b[0m\u001b[0m\n",
      "\u001b[0;31mNameError\u001b[0m: name 'IPython' is not defined"
     ]
    }
   ],
   "source": [
    "IPython.display.clear_output()\n",
    "val_performance = {}\n",
    "performance = {}\n",
    "val_performance['Residual LSTM'] = residual_lstm.evaluate(wide_window.val, return_dict=True)\n",
    "#performance['Residual LSTM'] = residual_lstm.evaluate(wide_window.test, verbose=0, return_dict=True)\n",
    "print()"
   ]
  },
  {
   "cell_type": "code",
   "execution_count": 21,
   "id": "EPLx8bRylI6X",
   "metadata": {
    "executionInfo": {
     "elapsed": 8,
     "status": "ok",
     "timestamp": 1710432092120,
     "user": {
      "displayName": "Junwoo Park",
      "userId": "13503732136792353719"
     },
     "user_tz": -60
    },
    "id": "EPLx8bRylI6X"
   },
   "outputs": [],
   "source": [
    "def make_prediction_set(test_set, window_width):\n",
    "  pred_set = []\n",
    "  for i in range(len(test_set)):\n",
    "    tmp = test_set[i:i+window_width]\n",
    "    if len(tmp) == window_width:\n",
    "      pred_set.append(tmp)\n",
    "  return np.array(pred_set).reshape(len(pred_set), window_width, NB_INPUT_FEATURES, 1)\n"
   ]
  },
  {
   "cell_type": "code",
   "execution_count": 22,
   "id": "3cad85b9-ea8d-4828-b099-abed1251f44e",
   "metadata": {
    "colab": {
     "base_uri": "https://localhost:8080/"
    },
    "executionInfo": {
     "elapsed": 925,
     "status": "ok",
     "timestamp": 1710432093040,
     "user": {
      "displayName": "Junwoo Park",
      "userId": "13503732136792353719"
     },
     "user_tz": -60
    },
    "id": "3cad85b9-ea8d-4828-b099-abed1251f44e",
    "outputId": "e29ff8e5-d7b3-49d4-f73d-46f2e9a0946d"
   },
   "outputs": [
    {
     "name": "stdout",
     "output_type": "stream",
     "text": [
      "4/4 [==============================] - 1s 142ms/step\n",
      "1/1 [==============================] - 0s 69ms/step\n",
      "(116, 4)\n",
      "(17, 5)\n",
      "(107, 4)\n",
      "(8, 4)\n"
     ]
    }
   ],
   "source": [
    "train_ = make_prediction_set(train_df, WINDOW_WIDTH)\n",
    "test_ = make_prediction_set(test_df, WINDOW_WIDTH)\n",
    "\n",
    "train_result = residual_lstm.predict(train_)\n",
    "test_result = residual_lstm.predict(test_)\n",
    "\n",
    "print(target_train_df.shape)\n",
    "print(test_df.shape)\n",
    "print(train_result.shape)\n",
    "print(test_result.shape)"
   ]
  },
  {
   "cell_type": "code",
   "execution_count": 23,
   "id": "bd55632c-0292-413e-a82e-6e8381e06a96",
   "metadata": {
    "colab": {
     "base_uri": "https://localhost:8080/",
     "height": 1000
    },
    "executionInfo": {
     "elapsed": 906,
     "status": "ok",
     "timestamp": 1710432093934,
     "user": {
      "displayName": "Junwoo Park",
      "userId": "13503732136792353719"
     },
     "user_tz": -60
    },
    "id": "bd55632c-0292-413e-a82e-6e8381e06a96",
    "outputId": "de00dcdb-a54d-4f96-b51d-4a16582f7bd9"
   },
   "outputs": [
    {
     "data": {
      "text/plain": [
       "[<matplotlib.lines.Line2D at 0x7812aa9affd0>]"
      ]
     },
     "execution_count": 23,
     "metadata": {},
     "output_type": "execute_result"
    },
    {
     "data": {
      "image/png": "[encoded data removed]",
      "text/plain": [
       "<Figure size 800x600 with 1 Axes>"
      ]
     },
     "metadata": {},
     "output_type": "display_data"
    },
    {
     "data": {
      "image/png": "[encoded data removed]",
      "text/plain": [
       "<Figure size 800x600 with 1 Axes>"
      ]
     },
     "metadata": {},
     "output_type": "display_data"
    }
   ],
   "source": [
    "plt.figure()\n",
    "plt.plot(np.arange(train_result.shape[0]), train_result[:,0], c='red')\n",
    "plt.plot(np.arange(target_train_df.shape[0]), target_train_df['lb_diff_coefs'], c='blue')\n",
    "\n",
    "plt.figure()\n",
    "plt.plot(np.arange(train_result.shape[0]), train_result[:,1], c='red')\n",
    "plt.plot(np.arange(target_train_df.shape[0]), target_train_df['alphas'], c='blue')"
   ]
  },
  {
   "cell_type": "code",
   "execution_count": 24,
   "id": "cae8bd6d-7893-4d88-875e-f10febc57ada",
   "metadata": {
    "colab": {
     "base_uri": "https://localhost:8080/",
     "height": 1000
    },
    "executionInfo": {
     "elapsed": 421,
     "status": "ok",
     "timestamp": 1710432094349,
     "user": {
      "displayName": "Junwoo Park",
      "userId": "13503732136792353719"
     },
     "user_tz": -60
    },
    "id": "cae8bd6d-7893-4d88-875e-f10febc57ada",
    "outputId": "af47d8b0-8dc1-4ca0-cd4f-346d48af839e"
   },
   "outputs": [
    {
     "data": {
      "text/plain": [
       "[<matplotlib.lines.Line2D at 0x7812aa1785e0>]"
      ]
     },
     "execution_count": 24,
     "metadata": {},
     "output_type": "execute_result"
    },
    {
     "data": {
      "image/png": "[encoded data removed]",
      "text/plain": [
       "<Figure size 800x600 with 1 Axes>"
      ]
     },
     "metadata": {},
     "output_type": "display_data"
    },
    {
     "data": {
      "image/png": "[encoded data removed]",
      "text/plain": [
       "<Figure size 800x600 with 1 Axes>"
      ]
     },
     "metadata": {},
     "output_type": "display_data"
    }
   ],
   "source": [
    "plt.figure()\n",
    "plt.plot(np.arange(train_result.shape[0]), train_result[:,2], c='red')\n",
    "plt.plot(np.arange(target_train_df.shape[0]), target_train_df['states'], c='blue')\n",
    "\n",
    "plt.figure()\n",
    "plt.plot(np.arange(train_result.shape[0]), train_result[:,3], c='red')\n",
    "plt.plot(np.arange(target_train_df.shape[0]), target_train_df['cps'], c='blue')"
   ]
  },
  {
   "cell_type": "code",
   "execution_count": 24,
   "id": "02d7b2db-6865-465f-ab7d-3ede69d91f69",
   "metadata": {
    "executionInfo": {
     "elapsed": 9,
     "status": "ok",
     "timestamp": 1710432094349,
     "user": {
      "displayName": "Junwoo Park",
      "userId": "13503732136792353719"
     },
     "user_tz": -60
    },
    "id": "02d7b2db-6865-465f-ab7d-3ede69d91f69"
   },
   "outputs": [],
   "source": []
  },
  {
   "cell_type": "code",
   "execution_count": 25,
   "id": "70fc0db9-5c30-4e1c-a52a-a447fc044e52",
   "metadata": {
    "colab": {
     "base_uri": "https://localhost:8080/"
    },
    "executionInfo": {
     "elapsed": 1218,
     "status": "ok",
     "timestamp": 1710432095559,
     "user": {
      "displayName": "Junwoo Park",
      "userId": "13503732136792353719"
     },
     "user_tz": -60
    },
    "id": "70fc0db9-5c30-4e1c-a52a-a447fc044e52",
    "outputId": "82b8cdf5-21c0-4101-d955-5793d799955c"
   },
   "outputs": [
    {
     "name": "stdout",
     "output_type": "stream",
     "text": [
      "6/6 [==============================] - 1s 151ms/step\n"
     ]
    }
   ],
   "source": [
    "trajectory_object = trajectory_list[12]\n",
    "trajectory_label = label_list[12]\n",
    "msd = trajectory_object.get_msd(time_interval=TIME_INTERVAL)\n",
    "diff_coefs = trajectory_object.get_diffusion_coefs(time_interval=TIME_INTERVAL)\n",
    "angles = trajectory_object.get_trajectory_angles(time_interval=TIME_INTERVAL)\n",
    "\n",
    "xs = trajectory_object.get_positions()[:,0]\n",
    "ys = trajectory_object.get_positions()[:,1]\n",
    "xs -= xs[0]\n",
    "ys -= ys[0]\n",
    "\n",
    "labeled_diff_coefs = trajectory_label[0]\n",
    "labeled_alphas = trajectory_label[1]\n",
    "labeled_states = trajectory_label[2]\n",
    "labeled_cps = trajectory_label[3]\n",
    "\n",
    "train_df = np.array([xs, ys, msd, diff_coefs, angles]).T\n",
    "train_df = pd.DataFrame(train_df, columns=['xs', 'ys', 'msd', 'diff_coefs', 'angles'])\n",
    "target_df = np.array([labeled_diff_coefs, labeled_alphas, labeled_states, labeled_cps]).T\n",
    "target_df = pd.DataFrame(target_df, columns=['lb_diff_coefs', 'alphas', 'states', 'cps'])\n",
    "\n",
    "test_ = make_prediction_set(train_df, WINDOW_WIDTH)\n",
    "test_result = residual_lstm.predict(test_)"
   ]
  },
  {
   "cell_type": "code",
   "execution_count": 26,
   "id": "793cb719-0e7d-46c7-a7dd-5538d845deef",
   "metadata": {
    "colab": {
     "base_uri": "https://localhost:8080/",
     "height": 1000
    },
    "executionInfo": {
     "elapsed": 599,
     "status": "ok",
     "timestamp": 1710432096153,
     "user": {
      "displayName": "Junwoo Park",
      "userId": "13503732136792353719"
     },
     "user_tz": -60
    },
    "id": "793cb719-0e7d-46c7-a7dd-5538d845deef",
    "outputId": "d66353f7-1943-4ba8-a9f2-cd3cafdf87a8"
   },
   "outputs": [
    {
     "data": {
      "text/plain": [
       "[<matplotlib.lines.Line2D at 0x7812aa075270>]"
      ]
     },
     "execution_count": 26,
     "metadata": {},
     "output_type": "execute_result"
    },
    {
     "data": {
      "image/png": "[encoded data removed]",
      "text/plain": [
       "<Figure size 800x600 with 1 Axes>"
      ]
     },
     "metadata": {},
     "output_type": "display_data"
    },
    {
     "data": {
      "image/png": "[encoded data removed]",
      "text/plain": [
       "<Figure size 800x600 with 1 Axes>"
      ]
     },
     "metadata": {},
     "output_type": "display_data"
    }
   ],
   "source": [
    "plt.figure()\n",
    "plt.plot(np.arange(test_result.shape[0]), test_result[:,0], c='red')\n",
    "plt.plot(np.arange(target_df.shape[0]), target_df['lb_diff_coefs'], c='blue')\n",
    "\n",
    "plt.figure()\n",
    "plt.plot(np.arange(test_result.shape[0]), test_result[:,1], c='red')\n",
    "plt.plot(np.arange(target_df.shape[0]), target_df['alphas'], c='blue')"
   ]
  },
  {
   "cell_type": "code",
   "execution_count": 26,
   "id": "a8c5a0e4-7578-4859-bb2d-4445798b81b5",
   "metadata": {
    "executionInfo": {
     "elapsed": 255,
     "status": "ok",
     "timestamp": 1710432096404,
     "user": {
      "displayName": "Junwoo Park",
      "userId": "13503732136792353719"
     },
     "user_tz": -60
    },
    "id": "a8c5a0e4-7578-4859-bb2d-4445798b81b5"
   },
   "outputs": [],
   "source": []
  }
 ],
 "metadata": {
  "colab": {
   "provenance": []
  },
  "kernelspec": {
   "display_name": "Python 3 (ipykernel)",
   "language": "python",
   "name": "python3"
  },
  "language_info": {
   "codemirror_mode": {
    "name": "ipython",
    "version": 3
   },
   "file_extension": ".py",
   "mimetype": "text/x-python",
   "name": "python",
   "nbconvert_exporter": "python",
   "pygments_lexer": "ipython3",
   "version": "3.10.12"
  }
 },
 "nbformat": 4,
 "nbformat_minor": 5
}
